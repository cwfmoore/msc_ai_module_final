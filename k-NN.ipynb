{
 "cells": [
  {
   "cell_type": "markdown",
   "id": "a9520073",
   "metadata": {},
   "source": [
    "# 1. Setup"
   ]
  },
  {
   "cell_type": "code",
   "execution_count": 136,
   "id": "1d03b639",
   "metadata": {},
   "outputs": [],
   "source": [
    "# Standard library\n",
    "import numpy as np\n",
    "import pandas as pd\n",
    "from pathlib import Path\n",
    "\n",
    "# Machine learning\n",
    "from sklearn.model_selection import train_test_split, GridSearchCV, StratifiedKFold\n",
    "from sklearn.neighbors import KNeighborsClassifier\n",
    "from sklearn.preprocessing import StandardScaler, MinMaxScaler\n",
    "from sklearn.metrics import classification_report, confusion_matrix, accuracy_score\n",
    "from sklearn.pipeline import Pipeline\n",
    "from sklearn.compose import ColumnTransformer\n",
    "from sklearn.metrics import make_scorer\n",
    "\n",
    "# Visualisation\n",
    "import matplotlib.pyplot as plt\n",
    "import seaborn as sns\n",
    "\n",
    "# Configuration and utilities\n",
    "import tomllib\n",
    "from rich import print\n",
    "\n",
    "# Set random seed for reproducibility\n",
    "np.random.seed(42)"
   ]
  },
  {
   "cell_type": "code",
   "execution_count": 137,
   "id": "495e7d41",
   "metadata": {},
   "outputs": [
    {
     "data": {
      "text/html": [
       "<pre style=\"white-space:pre;overflow-x:auto;line-height:normal;font-family:Menlo,'DejaVu Sans Mono',consolas,'Courier New',monospace\">✅ Configuration loaded\n",
       "</pre>\n"
      ],
      "text/plain": [
       "✅ Configuration loaded\n"
      ]
     },
     "metadata": {},
     "output_type": "display_data"
    },
    {
     "data": {
      "text/html": [
       "<pre style=\"white-space:pre;overflow-x:auto;line-height:normal;font-family:Menlo,'DejaVu Sans Mono',consolas,'Courier New',monospace\">📊 Dataset loaded: <span style=\"color: #008080; text-decoration-color: #008080; font-weight: bold\">4</span>,<span style=\"color: #008080; text-decoration-color: #008080; font-weight: bold\">424</span> rows × <span style=\"color: #008080; text-decoration-color: #008080; font-weight: bold\">37</span> columns\n",
       "</pre>\n"
      ],
      "text/plain": [
       "📊 Dataset loaded: \u001b[1;36m4\u001b[0m,\u001b[1;36m424\u001b[0m rows × \u001b[1;36m37\u001b[0m columns\n"
      ]
     },
     "metadata": {},
     "output_type": "display_data"
    },
    {
     "data": {
      "text/html": [
       "<pre style=\"white-space:pre;overflow-x:auto;line-height:normal;font-family:Menlo,'DejaVu Sans Mono',consolas,'Courier New',monospace\"> - Removed <span style=\"color: #008080; text-decoration-color: #008080; font-weight: bold\">6</span> second semester features to prevent data leakage\n",
       "</pre>\n"
      ],
      "text/plain": [
       " - Removed \u001b[1;36m6\u001b[0m second semester features to prevent data leakage\n"
      ]
     },
     "metadata": {},
     "output_type": "display_data"
    },
    {
     "data": {
      "text/html": [
       "<pre style=\"white-space:pre;overflow-x:auto;line-height:normal;font-family:Menlo,'DejaVu Sans Mono',consolas,'Courier New',monospace\"> - Final dataset: <span style=\"color: #008080; text-decoration-color: #008080; font-weight: bold\">4</span>,<span style=\"color: #008080; text-decoration-color: #008080; font-weight: bold\">424</span> rows × <span style=\"color: #008080; text-decoration-color: #008080; font-weight: bold\">32</span> columns\n",
       "</pre>\n"
      ],
      "text/plain": [
       " - Final dataset: \u001b[1;36m4\u001b[0m,\u001b[1;36m424\u001b[0m rows × \u001b[1;36m32\u001b[0m columns\n"
      ]
     },
     "metadata": {},
     "output_type": "display_data"
    }
   ],
   "source": [
    "# Load configuration\n",
    "with open('config.toml', 'rb') as f:\n",
    "    config = tomllib.load(f)\n",
    "\n",
    "print(\"✅ Configuration loaded\")\n",
    "\n",
    "# Load dataset\n",
    "dataset_path = Path('datasets/dataset_raw.csv')\n",
    "df = pd.read_csv(dataset_path, delimiter=';')\n",
    "\n",
    "# Normalise column names to snake_case\n",
    "df.columns = [col.lower().replace(' ', '_').replace('(', '').replace(')', '').replace('/', '_') \n",
    "              for col in df.columns]\n",
    "\n",
    "print(f\"📊 Dataset loaded: {df.shape[0]:,} rows × {df.shape[1]:,} columns\")\n",
    "\n",
    "# Create binary target (1=Dropout, 0=Continue)\n",
    "df['target_binary'] = df['target'].map({'Dropout': 1, 'Graduate': 0, 'Enrolled': 0})\n",
    "\n",
    "# Remove second semester features (data leakage prevention)\n",
    "second_sem_cols = [col for col in df.columns if '2nd_sem' in col]\n",
    "df = df.drop(columns=second_sem_cols)\n",
    "\n",
    "print(f\" - Removed {len(second_sem_cols)} second semester features to prevent data leakage\")\n",
    "print(f\" - Final dataset: {df.shape[0]:,} rows × {df.shape[1]:,} columns\")"
   ]
  },
  {
   "cell_type": "code",
   "execution_count": 138,
   "id": "100cca13",
   "metadata": {},
   "outputs": [
    {
     "data": {
      "text/html": [
       "<pre style=\"white-space:pre;overflow-x:auto;line-height:normal;font-family:Menlo,'DejaVu Sans Mono',consolas,'Courier New',monospace\">✅ Column names normalised <span style=\"font-weight: bold\">(</span>apostrophes removed<span style=\"font-weight: bold\">)</span>\n",
       "</pre>\n"
      ],
      "text/plain": [
       "✅ Column names normalised \u001b[1m(\u001b[0mapostrophes removed\u001b[1m)\u001b[0m\n"
      ]
     },
     "metadata": {},
     "output_type": "display_data"
    }
   ],
   "source": [
    "def normalise_column_names(df):\n",
    "    \"\"\"Normalise DataFrame column names to snake_case format\"\"\"\n",
    "    def to_snake_case(name):\n",
    "        # Convert to string, strip whitespace, lowercase\n",
    "        name = str(name).strip().lower()\n",
    "        # Replace spaces and apostrophes with underscores\n",
    "        name = name.replace(' ', '_').replace(\"'\", '')\n",
    "        # Remove special characters\n",
    "        name = name.replace('(', '').replace(')', '').replace('/', '_')\n",
    "        name = name.replace('-', '_').replace('.', '_')\n",
    "        # Clean up multiple underscores\n",
    "        while '__' in name:\n",
    "            name = name.replace('__', '_')\n",
    "        # Remove trailing/leading underscores\n",
    "        name = name.strip('_')\n",
    "        return name\n",
    "    \n",
    "    df_copy = df.copy()\n",
    "    df_copy.columns = [to_snake_case(col) for col in df_copy.columns]\n",
    "    return df_copy\n",
    "\n",
    "# Re-apply normalisation with apostrophe handling\n",
    "df = normalise_column_names(df)\n",
    "print('✅ Column names normalised (apostrophes removed)')\n"
   ]
  },
  {
   "cell_type": "markdown",
   "id": "6742a57a",
   "metadata": {},
   "source": [
    "# 2. Feature Selection"
   ]
  },
  {
   "cell_type": "code",
   "execution_count": 139,
   "id": "3aa7f719",
   "metadata": {},
   "outputs": [
    {
     "data": {
      "text/html": [
       "<pre style=\"white-space:pre;overflow-x:auto;line-height:normal;font-family:Menlo,'DejaVu Sans Mono',consolas,'Courier New',monospace\">🎯 Selected <span style=\"color: #008080; text-decoration-color: #008080; font-weight: bold\">8</span> features for k-NN:\n",
       "</pre>\n"
      ],
      "text/plain": [
       "🎯 Selected \u001b[1;36m8\u001b[0m features for k-NN:\n"
      ]
     },
     "metadata": {},
     "output_type": "display_data"
    },
    {
     "data": {
      "text/html": [
       "<pre style=\"white-space:pre;overflow-x:auto;line-height:normal;font-family:Menlo,'DejaVu Sans Mono',consolas,'Courier New',monospace\">   • tuition_fees_up_to_date\n",
       "</pre>\n"
      ],
      "text/plain": [
       "   • tuition_fees_up_to_date\n"
      ]
     },
     "metadata": {},
     "output_type": "display_data"
    },
    {
     "data": {
      "text/html": [
       "<pre style=\"white-space:pre;overflow-x:auto;line-height:normal;font-family:Menlo,'DejaVu Sans Mono',consolas,'Courier New',monospace\">   • scholarship_holder\n",
       "</pre>\n"
      ],
      "text/plain": [
       "   • scholarship_holder\n"
      ]
     },
     "metadata": {},
     "output_type": "display_data"
    },
    {
     "data": {
      "text/html": [
       "<pre style=\"white-space:pre;overflow-x:auto;line-height:normal;font-family:Menlo,'DejaVu Sans Mono',consolas,'Courier New',monospace\">   • application_order\n",
       "</pre>\n"
      ],
      "text/plain": [
       "   • application_order\n"
      ]
     },
     "metadata": {},
     "output_type": "display_data"
    },
    {
     "data": {
      "text/html": [
       "<pre style=\"white-space:pre;overflow-x:auto;line-height:normal;font-family:Menlo,'DejaVu Sans Mono',consolas,'Courier New',monospace\">   • admission_grade\n",
       "</pre>\n"
      ],
      "text/plain": [
       "   • admission_grade\n"
      ]
     },
     "metadata": {},
     "output_type": "display_data"
    },
    {
     "data": {
      "text/html": [
       "<pre style=\"white-space:pre;overflow-x:auto;line-height:normal;font-family:Menlo,'DejaVu Sans Mono',consolas,'Courier New',monospace\">   • age_at_enrollment\n",
       "</pre>\n"
      ],
      "text/plain": [
       "   • age_at_enrollment\n"
      ]
     },
     "metadata": {},
     "output_type": "display_data"
    },
    {
     "data": {
      "text/html": [
       "<pre style=\"white-space:pre;overflow-x:auto;line-height:normal;font-family:Menlo,'DejaVu Sans Mono',consolas,'Courier New',monospace\">   • curricular_units_1st_sem_grade\n",
       "</pre>\n"
      ],
      "text/plain": [
       "   • curricular_units_1st_sem_grade\n"
      ]
     },
     "metadata": {},
     "output_type": "display_data"
    },
    {
     "data": {
      "text/html": [
       "<pre style=\"white-space:pre;overflow-x:auto;line-height:normal;font-family:Menlo,'DejaVu Sans Mono',consolas,'Courier New',monospace\">   • parental_higher_education\n",
       "</pre>\n"
      ],
      "text/plain": [
       "   • parental_higher_education\n"
      ]
     },
     "metadata": {},
     "output_type": "display_data"
    },
    {
     "data": {
      "text/html": [
       "<pre style=\"white-space:pre;overflow-x:auto;line-height:normal;font-family:Menlo,'DejaVu Sans Mono',consolas,'Courier New',monospace\">   • parental_professional_occupation\n",
       "</pre>\n"
      ],
      "text/plain": [
       "   • parental_professional_occupation\n"
      ]
     },
     "metadata": {},
     "output_type": "display_data"
    },
    {
     "data": {
      "text/html": [
       "<pre style=\"white-space:pre;overflow-x:auto;line-height:normal;font-family:Menlo,'DejaVu Sans Mono',consolas,'Courier New',monospace\">\n",
       "- Final dataset: <span style=\"color: #008080; text-decoration-color: #008080; font-weight: bold\">4</span>,<span style=\"color: #008080; text-decoration-color: #008080; font-weight: bold\">424</span> samples, <span style=\"color: #008080; text-decoration-color: #008080; font-weight: bold\">8</span> features\n",
       "</pre>\n"
      ],
      "text/plain": [
       "\n",
       "- Final dataset: \u001b[1;36m4\u001b[0m,\u001b[1;36m424\u001b[0m samples, \u001b[1;36m8\u001b[0m features\n"
      ]
     },
     "metadata": {},
     "output_type": "display_data"
    },
    {
     "data": {
      "text/html": [
       "<pre style=\"white-space:pre;overflow-x:auto;line-height:normal;font-family:Menlo,'DejaVu Sans Mono',consolas,'Courier New',monospace\">- Target distribution: <span style=\"font-weight: bold\">{</span><span style=\"color: #008080; text-decoration-color: #008080; font-weight: bold\">0</span>: <span style=\"color: #008080; text-decoration-color: #008080; font-weight: bold\">3003</span>, <span style=\"color: #008080; text-decoration-color: #008080; font-weight: bold\">1</span>: <span style=\"color: #008080; text-decoration-color: #008080; font-weight: bold\">1421</span><span style=\"font-weight: bold\">}</span>\n",
       "</pre>\n"
      ],
      "text/plain": [
       "- Target distribution: \u001b[1m{\u001b[0m\u001b[1;36m0\u001b[0m: \u001b[1;36m3003\u001b[0m, \u001b[1;36m1\u001b[0m: \u001b[1;36m1421\u001b[0m\u001b[1m}\u001b[0m\n"
      ]
     },
     "metadata": {},
     "output_type": "display_data"
    }
   ],
   "source": [
    "# Keep only selected features\n",
    "selected_features = [\n",
    "    'tuition_fees_up_to_date', 'scholarship_holder', 'application_order',\n",
    "    'admission_grade', 'age_at_enrollment', 'curricular_units_1st_sem_grade'\n",
    "]\n",
    "\n",
    "# Add engineered features for parents background\n",
    "df['parental_higher_education'] = (\n",
    "    (df['mothers_qualification'].isin(config['parental_features']['higher_education_codes'])) |\n",
    "    (df['fathers_qualification'].isin(config['parental_features']['higher_education_codes']))\n",
    ").astype(int)\n",
    "\n",
    "df['parental_professional_occupation'] = (\n",
    "    (df['mothers_occupation'].isin(config['parental_features']['professional_occupation_codes'])) |\n",
    "    (df['fathers_occupation'].isin(config['parental_features']['professional_occupation_codes']))\n",
    ").astype(int)\n",
    "\n",
    "selected_features.extend(['parental_higher_education', 'parental_professional_occupation'])\n",
    "\n",
    "# Create final dataset with selected features\n",
    "X = df[selected_features]\n",
    "y = df['target_binary']\n",
    "\n",
    "print(f'🎯 Selected {len(selected_features)} features for k-NN:')\n",
    "for feature in selected_features:\n",
    "    print(f'   • {feature}')\n",
    "\n",
    "print(f'\\n- Final dataset: {X.shape[0]:,} samples, {X.shape[1]} features')\n",
    "print(f'- Target distribution: {y.value_counts().to_dict()}')"
   ]
  },
  {
   "cell_type": "markdown",
   "id": "ef647feb",
   "metadata": {},
   "source": [
    "# 3. Train Test Split"
   ]
  },
  {
   "cell_type": "code",
   "execution_count": 140,
   "id": "9ecaf9fc",
   "metadata": {},
   "outputs": [
    {
     "data": {
      "text/html": [
       "<pre style=\"white-space:pre;overflow-x:auto;line-height:normal;font-family:Menlo,'DejaVu Sans Mono',consolas,'Courier New',monospace\">📊 Data split <span style=\"font-weight: bold\">(</span><span style=\"color: #008080; text-decoration-color: #008080; font-weight: bold\">80</span>/<span style=\"color: #008080; text-decoration-color: #008080; font-weight: bold\">20</span><span style=\"font-weight: bold\">)</span>:\n",
       "</pre>\n"
      ],
      "text/plain": [
       "📊 Data split \u001b[1m(\u001b[0m\u001b[1;36m80\u001b[0m/\u001b[1;36m20\u001b[0m\u001b[1m)\u001b[0m:\n"
      ]
     },
     "metadata": {},
     "output_type": "display_data"
    },
    {
     "data": {
      "text/html": [
       "<pre style=\"white-space:pre;overflow-x:auto;line-height:normal;font-family:Menlo,'DejaVu Sans Mono',consolas,'Courier New',monospace\">   Training: <span style=\"color: #008080; text-decoration-color: #008080; font-weight: bold\">3</span>,<span style=\"color: #008080; text-decoration-color: #008080; font-weight: bold\">539</span> samples\n",
       "</pre>\n"
      ],
      "text/plain": [
       "   Training: \u001b[1;36m3\u001b[0m,\u001b[1;36m539\u001b[0m samples\n"
      ]
     },
     "metadata": {},
     "output_type": "display_data"
    },
    {
     "data": {
      "text/html": [
       "<pre style=\"white-space:pre;overflow-x:auto;line-height:normal;font-family:Menlo,'DejaVu Sans Mono',consolas,'Courier New',monospace\">   Test: <span style=\"color: #008080; text-decoration-color: #008080; font-weight: bold\">885</span> samples\n",
       "</pre>\n"
      ],
      "text/plain": [
       "   Test: \u001b[1;36m885\u001b[0m samples\n"
      ]
     },
     "metadata": {},
     "output_type": "display_data"
    },
    {
     "data": {
      "text/html": [
       "<pre style=\"white-space:pre;overflow-x:auto;line-height:normal;font-family:Menlo,'DejaVu Sans Mono',consolas,'Courier New',monospace\">\n",
       "🎯 Class distribution:\n",
       "</pre>\n"
      ],
      "text/plain": [
       "\n",
       "🎯 Class distribution:\n"
      ]
     },
     "metadata": {},
     "output_type": "display_data"
    },
    {
     "data": {
      "text/html": [
       "<pre style=\"white-space:pre;overflow-x:auto;line-height:normal;font-family:Menlo,'DejaVu Sans Mono',consolas,'Courier New',monospace\">   Training: <span style=\"font-weight: bold\">{</span><span style=\"color: #008080; text-decoration-color: #008080; font-weight: bold\">0</span>: <span style=\"color: #008080; text-decoration-color: #008080; font-weight: bold\">2402</span>, <span style=\"color: #008080; text-decoration-color: #008080; font-weight: bold\">1</span>: <span style=\"color: #008080; text-decoration-color: #008080; font-weight: bold\">1137</span><span style=\"font-weight: bold\">}</span>\n",
       "</pre>\n"
      ],
      "text/plain": [
       "   Training: \u001b[1m{\u001b[0m\u001b[1;36m0\u001b[0m: \u001b[1;36m2402\u001b[0m, \u001b[1;36m1\u001b[0m: \u001b[1;36m1137\u001b[0m\u001b[1m}\u001b[0m\n"
      ]
     },
     "metadata": {},
     "output_type": "display_data"
    },
    {
     "data": {
      "text/html": [
       "<pre style=\"white-space:pre;overflow-x:auto;line-height:normal;font-family:Menlo,'DejaVu Sans Mono',consolas,'Courier New',monospace\">   Test: <span style=\"font-weight: bold\">{</span><span style=\"color: #008080; text-decoration-color: #008080; font-weight: bold\">0</span>: <span style=\"color: #008080; text-decoration-color: #008080; font-weight: bold\">601</span>, <span style=\"color: #008080; text-decoration-color: #008080; font-weight: bold\">1</span>: <span style=\"color: #008080; text-decoration-color: #008080; font-weight: bold\">284</span><span style=\"font-weight: bold\">}</span>\n",
       "</pre>\n"
      ],
      "text/plain": [
       "   Test: \u001b[1m{\u001b[0m\u001b[1;36m0\u001b[0m: \u001b[1;36m601\u001b[0m, \u001b[1;36m1\u001b[0m: \u001b[1;36m284\u001b[0m\u001b[1m}\u001b[0m\n"
      ]
     },
     "metadata": {},
     "output_type": "display_data"
    },
    {
     "data": {
      "text/html": [
       "<pre style=\"white-space:pre;overflow-x:auto;line-height:normal;font-family:Menlo,'DejaVu Sans Mono',consolas,'Courier New',monospace\">\n",
       "✅ Continuation rate: <span style=\"color: #808000; text-decoration-color: #808000\">Train</span>=<span style=\"color: #008080; text-decoration-color: #008080; font-weight: bold\">0.321</span>, <span style=\"color: #808000; text-decoration-color: #808000\">Test</span>=<span style=\"color: #008080; text-decoration-color: #008080; font-weight: bold\">0.321</span>\n",
       "</pre>\n"
      ],
      "text/plain": [
       "\n",
       "✅ Continuation rate: \u001b[33mTrain\u001b[0m=\u001b[1;36m0\u001b[0m\u001b[1;36m.321\u001b[0m, \u001b[33mTest\u001b[0m=\u001b[1;36m0\u001b[0m\u001b[1;36m.321\u001b[0m\n"
      ]
     },
     "metadata": {},
     "output_type": "display_data"
    }
   ],
   "source": [
    "# Split the data using config parameters\n",
    "train_size = config['k-NN_model']['train_size']\n",
    "stratify_split = config['k-NN_model']['stratify']\n",
    "\n",
    "X_train, X_test, y_train, y_test = train_test_split(\n",
    "    X, y,\n",
    "    train_size=train_size,\n",
    "    stratify=y if stratify_split else None,\n",
    "    random_state=42\n",
    ")\n",
    "\n",
    "# Calculate percentages\n",
    "train_pct = int(train_size * 100)\n",
    "test_pct = 100 - train_pct\n",
    "\n",
    "print(f'📊 Data split ({train_pct}/{test_pct}):')\n",
    "print(f'   Training: {X_train.shape[0]:,} samples')\n",
    "print(f'   Test: {X_test.shape[0]:,} samples')\n",
    "\n",
    "print(f'\\n🎯 Class distribution:')\n",
    "print(f'   Training: {y_train.value_counts().to_dict()}')\n",
    "print(f'   Test: {y_test.value_counts().to_dict()}')\n",
    "\n",
    "# Verify class balance is maintained\n",
    "train_ratio = y_train.mean()\n",
    "test_ratio = y_test.mean()\n",
    "print(f'\\n✅ Continuation rate: Train={train_ratio:.3f}, Test={test_ratio:.3f}')"
   ]
  },
  {
   "cell_type": "markdown",
   "id": "9360e13d",
   "metadata": {},
   "source": [
    "# 4. Pipeline"
   ]
  },
  {
   "cell_type": "code",
   "execution_count": 141,
   "id": "4db57cb7",
   "metadata": {},
   "outputs": [
    {
     "data": {
      "text/html": [
       "<pre style=\"white-space:pre;overflow-x:auto;line-height:normal;font-family:Menlo,'DejaVu Sans Mono',consolas,'Courier New',monospace\">🔧 Preprocessing pipeline created:\n",
       "</pre>\n"
      ],
      "text/plain": [
       "🔧 Preprocessing pipeline created:\n"
      ]
     },
     "metadata": {},
     "output_type": "display_data"
    },
    {
     "data": {
      "text/html": [
       "<pre style=\"white-space:pre;overflow-x:auto;line-height:normal;font-family:Menlo,'DejaVu Sans Mono',consolas,'Courier New',monospace\">   Scaler: minmax\n",
       "</pre>\n"
      ],
      "text/plain": [
       "   Scaler: minmax\n"
      ]
     },
     "metadata": {},
     "output_type": "display_data"
    },
    {
     "data": {
      "text/html": [
       "<pre style=\"white-space:pre;overflow-x:auto;line-height:normal;font-family:Menlo,'DejaVu Sans Mono',consolas,'Courier New',monospace\">   Numeric features <span style=\"font-weight: bold\">(</span><span style=\"color: #008080; text-decoration-color: #008080; font-weight: bold\">4</span><span style=\"font-weight: bold\">)</span>: <span style=\"font-weight: bold\">[</span><span style=\"color: #008000; text-decoration-color: #008000\">'application_order'</span>, <span style=\"color: #008000; text-decoration-color: #008000\">'admission_grade'</span>, <span style=\"color: #008000; text-decoration-color: #008000\">'age_at_enrollment'</span>, \n",
       "<span style=\"color: #008000; text-decoration-color: #008000\">'curricular_units_1st_sem_grade'</span><span style=\"font-weight: bold\">]</span>\n",
       "</pre>\n"
      ],
      "text/plain": [
       "   Numeric features \u001b[1m(\u001b[0m\u001b[1;36m4\u001b[0m\u001b[1m)\u001b[0m: \u001b[1m[\u001b[0m\u001b[32m'application_order'\u001b[0m, \u001b[32m'admission_grade'\u001b[0m, \u001b[32m'age_at_enrollment'\u001b[0m, \n",
       "\u001b[32m'curricular_units_1st_sem_grade'\u001b[0m\u001b[1m]\u001b[0m\n"
      ]
     },
     "metadata": {},
     "output_type": "display_data"
    },
    {
     "data": {
      "text/html": [
       "<pre style=\"white-space:pre;overflow-x:auto;line-height:normal;font-family:Menlo,'DejaVu Sans Mono',consolas,'Courier New',monospace\">   Binary features <span style=\"font-weight: bold\">(</span><span style=\"color: #008080; text-decoration-color: #008080; font-weight: bold\">4</span><span style=\"font-weight: bold\">)</span>: <span style=\"font-weight: bold\">[</span><span style=\"color: #008000; text-decoration-color: #008000\">'tuition_fees_up_to_date'</span>, <span style=\"color: #008000; text-decoration-color: #008000\">'scholarship_holder'</span>, <span style=\"color: #008000; text-decoration-color: #008000\">'parental_higher_education'</span>, \n",
       "<span style=\"color: #008000; text-decoration-color: #008000\">'parental_professional_occupation'</span><span style=\"font-weight: bold\">]</span>\n",
       "</pre>\n"
      ],
      "text/plain": [
       "   Binary features \u001b[1m(\u001b[0m\u001b[1;36m4\u001b[0m\u001b[1m)\u001b[0m: \u001b[1m[\u001b[0m\u001b[32m'tuition_fees_up_to_date'\u001b[0m, \u001b[32m'scholarship_holder'\u001b[0m, \u001b[32m'parental_higher_education'\u001b[0m, \n",
       "\u001b[32m'parental_professional_occupation'\u001b[0m\u001b[1m]\u001b[0m\n"
      ]
     },
     "metadata": {},
     "output_type": "display_data"
    }
   ],
   "source": [
    "# Define feature types for preprocessing\n",
    "numeric_features = ['application_order', 'admission_grade', 'age_at_enrollment', \n",
    "                   'curricular_units_1st_sem_grade']\n",
    "binary_features = ['tuition_fees_up_to_date', 'scholarship_holder', \n",
    "                  'parental_higher_education', 'parental_professional_occupation']\n",
    "\n",
    "# Get scaler type from config\n",
    "scaler_type = config['k-NN_model']['scaler_type']\n",
    "\n",
    "if scaler_type == 'standard':\n",
    "    scaler = StandardScaler()\n",
    "elif scaler_type == 'minmax':\n",
    "    scaler = MinMaxScaler()\n",
    "else:\n",
    "    raise ValueError(f'Unknown scaler type: {scaler_type}')\n",
    "\n",
    "# Create preprocessing pipeline\n",
    "preprocessor = ColumnTransformer(\n",
    "    transformers=[\n",
    "        ('num', scaler, numeric_features),\n",
    "        ('bin', 'passthrough', binary_features)\n",
    "    ],\n",
    "    remainder='drop'\n",
    ")\n",
    "\n",
    "print(f'🔧 Preprocessing pipeline created:')\n",
    "print(f'   Scaler: {scaler_type}')\n",
    "print(f'   Numeric features ({len(numeric_features)}): {numeric_features}')\n",
    "print(f'   Binary features ({len(binary_features)}): {binary_features}')"
   ]
  },
  {
   "cell_type": "markdown",
   "id": "f5860eb2",
   "metadata": {},
   "source": [
    "# 5. Model Training"
   ]
  },
  {
   "cell_type": "code",
   "execution_count": 142,
   "id": "746d609a",
   "metadata": {},
   "outputs": [
    {
     "data": {
      "text/html": [
       "<pre style=\"white-space:pre;overflow-x:auto;line-height:normal;font-family:Menlo,'DejaVu Sans Mono',consolas,'Courier New',monospace\">🔍 Starting grid search:\n",
       "</pre>\n"
      ],
      "text/plain": [
       "🔍 Starting grid search:\n"
      ]
     },
     "metadata": {},
     "output_type": "display_data"
    },
    {
     "data": {
      "text/html": [
       "<pre style=\"white-space:pre;overflow-x:auto;line-height:normal;font-family:Menlo,'DejaVu Sans Mono',consolas,'Courier New',monospace\">   k-values: <span style=\"font-weight: bold\">[</span><span style=\"color: #008080; text-decoration-color: #008080; font-weight: bold\">3</span>, <span style=\"color: #008080; text-decoration-color: #008080; font-weight: bold\">5</span>, <span style=\"color: #008080; text-decoration-color: #008080; font-weight: bold\">7</span>, <span style=\"color: #008080; text-decoration-color: #008080; font-weight: bold\">9</span>, <span style=\"color: #008080; text-decoration-color: #008080; font-weight: bold\">11</span>, <span style=\"color: #008080; text-decoration-color: #008080; font-weight: bold\">13</span>, <span style=\"color: #008080; text-decoration-color: #008080; font-weight: bold\">15</span>, <span style=\"color: #008080; text-decoration-color: #008080; font-weight: bold\">17</span>, <span style=\"color: #008080; text-decoration-color: #008080; font-weight: bold\">19</span><span style=\"font-weight: bold\">]</span>\n",
       "</pre>\n"
      ],
      "text/plain": [
       "   k-values: \u001b[1m[\u001b[0m\u001b[1;36m3\u001b[0m, \u001b[1;36m5\u001b[0m, \u001b[1;36m7\u001b[0m, \u001b[1;36m9\u001b[0m, \u001b[1;36m11\u001b[0m, \u001b[1;36m13\u001b[0m, \u001b[1;36m15\u001b[0m, \u001b[1;36m17\u001b[0m, \u001b[1;36m19\u001b[0m\u001b[1m]\u001b[0m\n"
      ]
     },
     "metadata": {},
     "output_type": "display_data"
    },
    {
     "data": {
      "text/html": [
       "<pre style=\"white-space:pre;overflow-x:auto;line-height:normal;font-family:Menlo,'DejaVu Sans Mono',consolas,'Courier New',monospace\">   Weights: <span style=\"font-weight: bold\">[</span><span style=\"color: #008000; text-decoration-color: #008000\">'uniform'</span>, <span style=\"color: #008000; text-decoration-color: #008000\">'distance'</span><span style=\"font-weight: bold\">]</span>\n",
       "</pre>\n"
      ],
      "text/plain": [
       "   Weights: \u001b[1m[\u001b[0m\u001b[32m'uniform'\u001b[0m, \u001b[32m'distance'\u001b[0m\u001b[1m]\u001b[0m\n"
      ]
     },
     "metadata": {},
     "output_type": "display_data"
    },
    {
     "data": {
      "text/html": [
       "<pre style=\"white-space:pre;overflow-x:auto;line-height:normal;font-family:Menlo,'DejaVu Sans Mono',consolas,'Courier New',monospace\">   CV folds: <span style=\"color: #008080; text-decoration-color: #008080; font-weight: bold\">10</span>\n",
       "</pre>\n"
      ],
      "text/plain": [
       "   CV folds: \u001b[1;36m10\u001b[0m\n"
      ]
     },
     "metadata": {},
     "output_type": "display_data"
    },
    {
     "name": "stdout",
     "output_type": "stream",
     "text": [
      "Fitting 10 folds for each of 18 candidates, totalling 180 fits\n"
     ]
    },
    {
     "data": {
      "text/html": [
       "<pre style=\"white-space:pre;overflow-x:auto;line-height:normal;font-family:Menlo,'DejaVu Sans Mono',consolas,'Courier New',monospace\">\n",
       "✅ Best parameters: <span style=\"font-weight: bold\">{</span><span style=\"color: #008000; text-decoration-color: #008000\">'classifier__n_neighbors'</span>: <span style=\"color: #008080; text-decoration-color: #008080; font-weight: bold\">3</span>, <span style=\"color: #008000; text-decoration-color: #008000\">'classifier__weights'</span>: <span style=\"color: #008000; text-decoration-color: #008000\">'uniform'</span><span style=\"font-weight: bold\">}</span>\n",
       "</pre>\n"
      ],
      "text/plain": [
       "\n",
       "✅ Best parameters: \u001b[1m{\u001b[0m\u001b[32m'classifier__n_neighbors'\u001b[0m: \u001b[1;36m3\u001b[0m, \u001b[32m'classifier__weights'\u001b[0m: \u001b[32m'uniform'\u001b[0m\u001b[1m}\u001b[0m\n"
      ]
     },
     "metadata": {},
     "output_type": "display_data"
    },
    {
     "data": {
      "text/html": [
       "<pre style=\"white-space:pre;overflow-x:auto;line-height:normal;font-family:Menlo,'DejaVu Sans Mono',consolas,'Courier New',monospace\">✅ Best CV score <span style=\"font-weight: bold\">(</span>withdrawal recall<span style=\"font-weight: bold\">)</span>: <span style=\"color: #008080; text-decoration-color: #008080; font-weight: bold\">0.582</span>\n",
       "</pre>\n"
      ],
      "text/plain": [
       "✅ Best CV score \u001b[1m(\u001b[0mwithdrawal recall\u001b[1m)\u001b[0m: \u001b[1;36m0.582\u001b[0m\n"
      ]
     },
     "metadata": {},
     "output_type": "display_data"
    }
   ],
   "source": [
    "# Get hyperparameter range from config\n",
    "k_range = range(config['k-NN_model']['n_neighbors_range'][0], \n",
    "                config['k-NN_model']['n_neighbors_range'][1] + 1, 2)\n",
    "cv_folds = config['k-NN_model']['cv']\n",
    "\n",
    "# Create pipeline with preprocessing and k-NN\n",
    "pipeline = Pipeline([\n",
    "    ('preprocessor', preprocessor),\n",
    "    ('classifier', KNeighborsClassifier())\n",
    "])\n",
    "\n",
    "# Define parameter grid\n",
    "param_grid = {\n",
    "    'classifier__n_neighbors': k_range,\n",
    "    'classifier__weights': ['uniform', 'distance']\n",
    "}\n",
    "\n",
    "def withdrawal_recall(y_true, y_pred):\n",
    "    \"\"\"Calculate recall for withdrawal class (class 1)\"\"\"\n",
    "    cm = confusion_matrix(y_true, y_pred)\n",
    "    if cm.shape[0] < 2:\n",
    "        return 0.0\n",
    "    return cm[1, 1] / (cm[1, 1] + cm[1, 0]) if (cm[1, 1] + cm[1, 0]) > 0 else 0.0\n",
    "\n",
    "withdrawal_scorer = make_scorer(withdrawal_recall)\n",
    "\n",
    "# Perform grid search\n",
    "grid_search = GridSearchCV(\n",
    "    pipeline,\n",
    "    param_grid,\n",
    "    cv=StratifiedKFold(n_splits=cv_folds, shuffle=True, random_state=42),\n",
    "    scoring=withdrawal_scorer,\n",
    "    n_jobs=-1,\n",
    "    verbose=1\n",
    ")\n",
    "\n",
    "print(f'🔍 Starting grid search:')\n",
    "print(f'   k-values: {list(k_range)}')\n",
    "print(f'   Weights: {param_grid[\"classifier__weights\"]}')\n",
    "print(f'   CV folds: {cv_folds}')\n",
    "\n",
    "# Fit the model\n",
    "grid_search.fit(X_train, y_train)\n",
    "\n",
    "print(f'\\n✅ Best parameters: {grid_search.best_params_}')\n",
    "print(f'✅ Best CV score (withdrawal recall): {grid_search.best_score_:.3f}')"
   ]
  },
  {
   "cell_type": "markdown",
   "id": "64b9d1b4",
   "metadata": {},
   "source": [
    "# 6. Evaluation"
   ]
  },
  {
   "cell_type": "code",
   "execution_count": 143,
   "id": "00673d69",
   "metadata": {},
   "outputs": [
    {
     "data": {
      "text/html": [
       "<pre style=\"white-space:pre;overflow-x:auto;line-height:normal;font-family:Menlo,'DejaVu Sans Mono',consolas,'Courier New',monospace\">📊 Model Performance:\n",
       "</pre>\n"
      ],
      "text/plain": [
       "📊 Model Performance:\n"
      ]
     },
     "metadata": {},
     "output_type": "display_data"
    },
    {
     "data": {
      "text/html": [
       "<pre style=\"white-space:pre;overflow-x:auto;line-height:normal;font-family:Menlo,'DejaVu Sans Mono',consolas,'Courier New',monospace\">   Accuracy: <span style=\"color: #008080; text-decoration-color: #008080; font-weight: bold\">0.815</span>\n",
       "</pre>\n"
      ],
      "text/plain": [
       "   Accuracy: \u001b[1;36m0.815\u001b[0m\n"
      ]
     },
     "metadata": {},
     "output_type": "display_data"
    },
    {
     "data": {
      "text/html": [
       "<pre style=\"white-space:pre;overflow-x:auto;line-height:normal;font-family:Menlo,'DejaVu Sans Mono',consolas,'Courier New',monospace\">   Withdrawal recall: <span style=\"color: #008080; text-decoration-color: #008080; font-weight: bold\">0.630</span>\n",
       "</pre>\n"
      ],
      "text/plain": [
       "   Withdrawal recall: \u001b[1;36m0.630\u001b[0m\n"
      ]
     },
     "metadata": {},
     "output_type": "display_data"
    },
    {
     "data": {
      "text/html": [
       "<pre style=\"white-space:pre;overflow-x:auto;line-height:normal;font-family:Menlo,'DejaVu Sans Mono',consolas,'Courier New',monospace\">   Continuation recall: <span style=\"color: #008080; text-decoration-color: #008080; font-weight: bold\">0.902</span>\n",
       "</pre>\n"
      ],
      "text/plain": [
       "   Continuation recall: \u001b[1;36m0.902\u001b[0m\n"
      ]
     },
     "metadata": {},
     "output_type": "display_data"
    },
    {
     "data": {
      "text/html": [
       "<pre style=\"white-space:pre;overflow-x:auto;line-height:normal;font-family:Menlo,'DejaVu Sans Mono',consolas,'Courier New',monospace\">   Precision: <span style=\"color: #008080; text-decoration-color: #008080; font-weight: bold\">0.752</span>\n",
       "</pre>\n"
      ],
      "text/plain": [
       "   Precision: \u001b[1;36m0.752\u001b[0m\n"
      ]
     },
     "metadata": {},
     "output_type": "display_data"
    },
    {
     "data": {
      "text/html": [
       "<pre style=\"white-space:pre;overflow-x:auto;line-height:normal;font-family:Menlo,'DejaVu Sans Mono',consolas,'Courier New',monospace\">\n",
       "🎯 Confusion Matrix:\n",
       "</pre>\n"
      ],
      "text/plain": [
       "\n",
       "🎯 Confusion Matrix:\n"
      ]
     },
     "metadata": {},
     "output_type": "display_data"
    },
    {
     "data": {
      "text/html": [
       "<pre style=\"white-space:pre;overflow-x:auto;line-height:normal;font-family:Menlo,'DejaVu Sans Mono',consolas,'Courier New',monospace\">   Correct continuations: <span style=\"color: #008080; text-decoration-color: #008080; font-weight: bold\">542</span>\n",
       "</pre>\n"
      ],
      "text/plain": [
       "   Correct continuations: \u001b[1;36m542\u001b[0m\n"
      ]
     },
     "metadata": {},
     "output_type": "display_data"
    },
    {
     "data": {
      "text/html": [
       "<pre style=\"white-space:pre;overflow-x:auto;line-height:normal;font-family:Menlo,'DejaVu Sans Mono',consolas,'Courier New',monospace\">   <span style=\"color: #ff0000; text-decoration-color: #ff0000; font-style: italic\">False</span> withdrawal predictions: <span style=\"color: #008080; text-decoration-color: #008080; font-weight: bold\">59</span>\n",
       "</pre>\n"
      ],
      "text/plain": [
       "   \u001b[3;91mFalse\u001b[0m withdrawal predictions: \u001b[1;36m59\u001b[0m\n"
      ]
     },
     "metadata": {},
     "output_type": "display_data"
    },
    {
     "data": {
      "text/html": [
       "<pre style=\"white-space:pre;overflow-x:auto;line-height:normal;font-family:Menlo,'DejaVu Sans Mono',consolas,'Courier New',monospace\">   Missed withdrawals: <span style=\"color: #008080; text-decoration-color: #008080; font-weight: bold\">105</span>\n",
       "</pre>\n"
      ],
      "text/plain": [
       "   Missed withdrawals: \u001b[1;36m105\u001b[0m\n"
      ]
     },
     "metadata": {},
     "output_type": "display_data"
    },
    {
     "data": {
      "text/html": [
       "<pre style=\"white-space:pre;overflow-x:auto;line-height:normal;font-family:Menlo,'DejaVu Sans Mono',consolas,'Courier New',monospace\">   Correct withdrawals: <span style=\"color: #008080; text-decoration-color: #008080; font-weight: bold\">179</span>\n",
       "</pre>\n"
      ],
      "text/plain": [
       "   Correct withdrawals: \u001b[1;36m179\u001b[0m\n"
      ]
     },
     "metadata": {},
     "output_type": "display_data"
    },
    {
     "data": {
      "text/html": [
       "<pre style=\"white-space:pre;overflow-x:auto;line-height:normal;font-family:Menlo,'DejaVu Sans Mono',consolas,'Courier New',monospace\">\n",
       "📈 Classification Report:\n",
       "</pre>\n"
      ],
      "text/plain": [
       "\n",
       "📈 Classification Report:\n"
      ]
     },
     "metadata": {},
     "output_type": "display_data"
    },
    {
     "data": {
      "text/html": [
       "<pre style=\"white-space:pre;overflow-x:auto;line-height:normal;font-family:Menlo,'DejaVu Sans Mono',consolas,'Courier New',monospace\">              precision    recall  f1-score   support\n",
       "\n",
       "  Withdrawal       <span style=\"color: #008080; text-decoration-color: #008080; font-weight: bold\">0.84</span>      <span style=\"color: #008080; text-decoration-color: #008080; font-weight: bold\">0.90</span>      <span style=\"color: #008080; text-decoration-color: #008080; font-weight: bold\">0.87</span>       <span style=\"color: #008080; text-decoration-color: #008080; font-weight: bold\">601</span>\n",
       "Continuation       <span style=\"color: #008080; text-decoration-color: #008080; font-weight: bold\">0.75</span>      <span style=\"color: #008080; text-decoration-color: #008080; font-weight: bold\">0.63</span>      <span style=\"color: #008080; text-decoration-color: #008080; font-weight: bold\">0.69</span>       <span style=\"color: #008080; text-decoration-color: #008080; font-weight: bold\">284</span>\n",
       "\n",
       "    accuracy                           <span style=\"color: #008080; text-decoration-color: #008080; font-weight: bold\">0.81</span>       <span style=\"color: #008080; text-decoration-color: #008080; font-weight: bold\">885</span>\n",
       "   macro avg       <span style=\"color: #008080; text-decoration-color: #008080; font-weight: bold\">0.79</span>      <span style=\"color: #008080; text-decoration-color: #008080; font-weight: bold\">0.77</span>      <span style=\"color: #008080; text-decoration-color: #008080; font-weight: bold\">0.78</span>       <span style=\"color: #008080; text-decoration-color: #008080; font-weight: bold\">885</span>\n",
       "weighted avg       <span style=\"color: #008080; text-decoration-color: #008080; font-weight: bold\">0.81</span>      <span style=\"color: #008080; text-decoration-color: #008080; font-weight: bold\">0.81</span>      <span style=\"color: #008080; text-decoration-color: #008080; font-weight: bold\">0.81</span>       <span style=\"color: #008080; text-decoration-color: #008080; font-weight: bold\">885</span>\n",
       "\n",
       "</pre>\n"
      ],
      "text/plain": [
       "              precision    recall  f1-score   support\n",
       "\n",
       "  Withdrawal       \u001b[1;36m0.84\u001b[0m      \u001b[1;36m0.90\u001b[0m      \u001b[1;36m0.87\u001b[0m       \u001b[1;36m601\u001b[0m\n",
       "Continuation       \u001b[1;36m0.75\u001b[0m      \u001b[1;36m0.63\u001b[0m      \u001b[1;36m0.69\u001b[0m       \u001b[1;36m284\u001b[0m\n",
       "\n",
       "    accuracy                           \u001b[1;36m0.81\u001b[0m       \u001b[1;36m885\u001b[0m\n",
       "   macro avg       \u001b[1;36m0.79\u001b[0m      \u001b[1;36m0.77\u001b[0m      \u001b[1;36m0.78\u001b[0m       \u001b[1;36m885\u001b[0m\n",
       "weighted avg       \u001b[1;36m0.81\u001b[0m      \u001b[1;36m0.81\u001b[0m      \u001b[1;36m0.81\u001b[0m       \u001b[1;36m885\u001b[0m\n",
       "\n"
      ]
     },
     "metadata": {},
     "output_type": "display_data"
    }
   ],
   "source": [
    "# Get the best model\n",
    "best_model = grid_search.best_estimator_\n",
    "\n",
    "# Make predictions on test set\n",
    "y_pred = best_model.predict(X_test)\n",
    "\n",
    "# Calculate metrics\n",
    "accuracy = accuracy_score(y_test, y_pred)\n",
    "cm = confusion_matrix(y_test, y_pred)\n",
    "\n",
    "# Calculate specific metrics for withdrawal prediction\n",
    "withdrawal_recall = cm[1, 1] / (cm[1, 1] + cm[1, 0])  # Recall for withdrawal class (class 1)\n",
    "continuation_recall = cm[0, 0] / (cm[0, 0] + cm[0, 1])  # Recall for continuation class (class 0)\n",
    "precision = cm[1, 1] / (cm[1, 1] + cm[0, 1]) if (cm[1, 1] + cm[0, 1]) > 0 else 0\n",
    "\n",
    "print('📊 Model Performance:')\n",
    "print(f'   Accuracy: {accuracy:.3f}')\n",
    "print(f'   Withdrawal recall: {withdrawal_recall:.3f}')\n",
    "print(f'   Continuation recall: {continuation_recall:.3f}')\n",
    "print(f'   Precision: {precision:.3f}')\n",
    "\n",
    "print(f'\\n🎯 Confusion Matrix:')\n",
    "print(f'   Correct continuations: {cm[0, 0]}')\n",
    "print(f'   False withdrawal predictions: {cm[0, 1]}')\n",
    "print(f'   Missed withdrawals: {cm[1, 0]}')\n",
    "print(f'   Correct withdrawals: {cm[1, 1]}')\n",
    "\n",
    "# Detailed classification report\n",
    "print(f'\\n📈 Classification Report:')\n",
    "print(classification_report(y_test, y_pred, target_names=['Withdrawal', 'Continuation']))"
   ]
  },
  {
   "cell_type": "code",
   "execution_count": 144,
   "id": "2c217cb2",
   "metadata": {},
   "outputs": [
    {
     "data": {
      "image/png": "[encoded data removed]",
      "text/plain": [
       "<Figure size 1200x500 with 3 Axes>"
      ]
     },
     "metadata": {},
     "output_type": "display_data"
    },
    {
     "data": {
      "text/html": [
       "<pre style=\"white-space:pre;overflow-x:auto;line-height:normal;font-family:Menlo,'DejaVu Sans Mono',consolas,'Courier New',monospace\">✅ k-NN Model Complete!\n",
       "</pre>\n"
      ],
      "text/plain": [
       "✅ k-NN Model Complete!\n"
      ]
     },
     "metadata": {},
     "output_type": "display_data"
    },
    {
     "data": {
      "text/html": [
       "<pre style=\"white-space:pre;overflow-x:auto;line-height:normal;font-family:Menlo,'DejaVu Sans Mono',consolas,'Courier New',monospace\">Best configuration: <span style=\"color: #808000; text-decoration-color: #808000\">k</span>=<span style=\"color: #008080; text-decoration-color: #008080; font-weight: bold\">3</span>, <span style=\"color: #808000; text-decoration-color: #808000\">weights</span>=<span style=\"color: #800080; text-decoration-color: #800080\">uniform</span>\n",
       "</pre>\n"
      ],
      "text/plain": [
       "Best configuration: \u001b[33mk\u001b[0m=\u001b[1;36m3\u001b[0m, \u001b[33mweights\u001b[0m=\u001b[35muniform\u001b[0m\n"
      ]
     },
     "metadata": {},
     "output_type": "display_data"
    }
   ],
   "source": [
    "# Create visualisation of results\n",
    "fig, axes = plt.subplots(1, 2, figsize=(12, 5))\n",
    "\n",
    "# Confusion Matrix Heatmap\n",
    "sns.heatmap(cm, annot=True, fmt='d', cmap='Blues', \n",
    "           xticklabels=['Withdrawal', 'Continuation'],\n",
    "           yticklabels=['Withdrawal', 'Continuation'],\n",
    "           ax=axes[0])\n",
    "axes[0].set_title('Confusion Matrix')\n",
    "axes[0].set_ylabel('Actual')\n",
    "axes[0].set_xlabel('Predicted')\n",
    "\n",
    "# Performance Metrics Bar Chart\n",
    "metrics = ['Accuracy', 'Withdrawal Recall', 'Continuation Recall', 'Precision']\n",
    "values = [accuracy, withdrawal_recall, continuation_recall, precision]\n",
    "colors = ['skyblue', 'lightcoral', 'lightgreen', 'gold']\n",
    "\n",
    "bars = axes[1].bar(metrics, values, color=colors)\n",
    "axes[1].set_ylim(0, 1)\n",
    "axes[1].set_title('Performance Metrics')\n",
    "axes[1].set_ylabel('Score')\n",
    "\n",
    "# Add value labels on bars\n",
    "for bar, value in zip(bars, values):\n",
    "    axes[1].text(bar.get_x() + bar.get_width()/2, bar.get_height() + 0.01,\n",
    "                f'{value:.3f}', ha='center', va='bottom')\n",
    "\n",
    "plt.xticks(rotation=45, ha='right')\n",
    "plt.tight_layout()\n",
    "plt.show()\n",
    "\n",
    "print(f'✅ k-NN Model Complete!')\n",
    "print(f'Best configuration: k={grid_search.best_params_[\"classifier__n_neighbors\"]}, '\n",
    "      f'weights={grid_search.best_params_[\"classifier__weights\"]}')"
   ]
  },
  {
   "cell_type": "code",
   "execution_count": 150,
   "id": "83f68712",
   "metadata": {},
   "outputs": [
    {
     "data": {
      "text/html": [
       "<pre style=\"white-space:pre;overflow-x:auto;line-height:normal;font-family:Menlo,'DejaVu Sans Mono',consolas,'Courier New',monospace\">Getting probability predictions from k-NN model<span style=\"color: #808000; text-decoration-color: #808000\">...</span>\n",
       "</pre>\n"
      ],
      "text/plain": [
       "Getting probability predictions from k-NN model\u001b[33m...\u001b[0m\n"
      ]
     },
     "metadata": {},
     "output_type": "display_data"
    },
    {
     "data": {
      "text/html": [
       "<pre style=\"white-space:pre;overflow-x:auto;line-height:normal;font-family:Menlo,'DejaVu Sans Mono',consolas,'Courier New',monospace\">Creating Professional Threshold vs Performance Chart for k-NN\n",
       "</pre>\n"
      ],
      "text/plain": [
       "Creating Professional Threshold vs Performance Chart for k-NN\n"
      ]
     },
     "metadata": {},
     "output_type": "display_data"
    },
    {
     "data": {
      "image/png": "[encoded data removed]",
      "text/plain": [
       "<Figure size 1200x600 with 1 Axes>"
      ]
     },
     "metadata": {},
     "output_type": "display_data"
    },
    {
     "data": {
      "text/html": [
       "<pre style=\"white-space:pre;overflow-x:auto;line-height:normal;font-family:Menlo,'DejaVu Sans Mono',consolas,'Courier New',monospace\"> - k-NN THRESHOLD PERFORMANCE ANALYSIS\n",
       "</pre>\n"
      ],
      "text/plain": [
       " - k-NN THRESHOLD PERFORMANCE ANALYSIS\n"
      ]
     },
     "metadata": {},
     "output_type": "display_data"
    },
    {
     "data": {
      "text/html": [
       "<pre style=\"white-space:pre;overflow-x:auto;line-height:normal;font-family:Menlo,'DejaVu Sans Mono',consolas,'Courier New',monospace\"> Threshold  Withdrawal_Recall  Withdrawal_Precision  F1_Score    Status\n",
       "       <span style=\"color: #008080; text-decoration-color: #008080; font-weight: bold\">0.0</span>               <span style=\"color: #008080; text-decoration-color: #008080; font-weight: bold\">1.00</span>                 <span style=\"color: #008080; text-decoration-color: #008080; font-weight: bold\">0.321</span>     <span style=\"color: #008080; text-decoration-color: #008080; font-weight: bold\">0.486</span>          \n",
       "       <span style=\"color: #008080; text-decoration-color: #008080; font-weight: bold\">0.1</span>               <span style=\"color: #008080; text-decoration-color: #008080; font-weight: bold\">0.82</span>                 <span style=\"color: #008080; text-decoration-color: #008080; font-weight: bold\">0.486</span>     <span style=\"color: #008080; text-decoration-color: #008080; font-weight: bold\">0.611</span>          \n",
       "       <span style=\"color: #008080; text-decoration-color: #008080; font-weight: bold\">0.2</span>               <span style=\"color: #008080; text-decoration-color: #008080; font-weight: bold\">0.82</span>                 <span style=\"color: #008080; text-decoration-color: #008080; font-weight: bold\">0.486</span>     <span style=\"color: #008080; text-decoration-color: #008080; font-weight: bold\">0.611</span>          \n",
       "       <span style=\"color: #008080; text-decoration-color: #008080; font-weight: bold\">0.3</span>               <span style=\"color: #008080; text-decoration-color: #008080; font-weight: bold\">0.82</span>                 <span style=\"color: #008080; text-decoration-color: #008080; font-weight: bold\">0.486</span>     <span style=\"color: #008080; text-decoration-color: #008080; font-weight: bold\">0.611</span>          \n",
       "       <span style=\"color: #008080; text-decoration-color: #008080; font-weight: bold\">0.4</span>               <span style=\"color: #008080; text-decoration-color: #008080; font-weight: bold\">0.63</span>                 <span style=\"color: #008080; text-decoration-color: #008080; font-weight: bold\">0.752</span>     <span style=\"color: #008080; text-decoration-color: #008080; font-weight: bold\">0.686</span>          \n",
       "       <span style=\"color: #008080; text-decoration-color: #008080; font-weight: bold\">0.5</span>               <span style=\"color: #008080; text-decoration-color: #008080; font-weight: bold\">0.63</span>                 <span style=\"color: #008080; text-decoration-color: #008080; font-weight: bold\">0.752</span>     <span style=\"color: #008080; text-decoration-color: #008080; font-weight: bold\">0.686</span> ← CURRENT\n",
       "       <span style=\"color: #008080; text-decoration-color: #008080; font-weight: bold\">0.6</span>               <span style=\"color: #008080; text-decoration-color: #008080; font-weight: bold\">0.63</span>                 <span style=\"color: #008080; text-decoration-color: #008080; font-weight: bold\">0.752</span>     <span style=\"color: #008080; text-decoration-color: #008080; font-weight: bold\">0.686</span>          \n",
       "       <span style=\"color: #008080; text-decoration-color: #008080; font-weight: bold\">0.7</span>               <span style=\"color: #008080; text-decoration-color: #008080; font-weight: bold\">0.43</span>                 <span style=\"color: #008080; text-decoration-color: #008080; font-weight: bold\">0.891</span>     <span style=\"color: #008080; text-decoration-color: #008080; font-weight: bold\">0.580</span>          \n",
       "       <span style=\"color: #008080; text-decoration-color: #008080; font-weight: bold\">0.8</span>               <span style=\"color: #008080; text-decoration-color: #008080; font-weight: bold\">0.43</span>                 <span style=\"color: #008080; text-decoration-color: #008080; font-weight: bold\">0.891</span>     <span style=\"color: #008080; text-decoration-color: #008080; font-weight: bold\">0.580</span>          \n",
       "       <span style=\"color: #008080; text-decoration-color: #008080; font-weight: bold\">0.9</span>               <span style=\"color: #008080; text-decoration-color: #008080; font-weight: bold\">0.43</span>                 <span style=\"color: #008080; text-decoration-color: #008080; font-weight: bold\">0.891</span>     <span style=\"color: #008080; text-decoration-color: #008080; font-weight: bold\">0.580</span>          \n",
       "</pre>\n"
      ],
      "text/plain": [
       " Threshold  Withdrawal_Recall  Withdrawal_Precision  F1_Score    Status\n",
       "       \u001b[1;36m0.0\u001b[0m               \u001b[1;36m1.00\u001b[0m                 \u001b[1;36m0.321\u001b[0m     \u001b[1;36m0.486\u001b[0m          \n",
       "       \u001b[1;36m0.1\u001b[0m               \u001b[1;36m0.82\u001b[0m                 \u001b[1;36m0.486\u001b[0m     \u001b[1;36m0.611\u001b[0m          \n",
       "       \u001b[1;36m0.2\u001b[0m               \u001b[1;36m0.82\u001b[0m                 \u001b[1;36m0.486\u001b[0m     \u001b[1;36m0.611\u001b[0m          \n",
       "       \u001b[1;36m0.3\u001b[0m               \u001b[1;36m0.82\u001b[0m                 \u001b[1;36m0.486\u001b[0m     \u001b[1;36m0.611\u001b[0m          \n",
       "       \u001b[1;36m0.4\u001b[0m               \u001b[1;36m0.63\u001b[0m                 \u001b[1;36m0.752\u001b[0m     \u001b[1;36m0.686\u001b[0m          \n",
       "       \u001b[1;36m0.5\u001b[0m               \u001b[1;36m0.63\u001b[0m                 \u001b[1;36m0.752\u001b[0m     \u001b[1;36m0.686\u001b[0m ← CURRENT\n",
       "       \u001b[1;36m0.6\u001b[0m               \u001b[1;36m0.63\u001b[0m                 \u001b[1;36m0.752\u001b[0m     \u001b[1;36m0.686\u001b[0m          \n",
       "       \u001b[1;36m0.7\u001b[0m               \u001b[1;36m0.43\u001b[0m                 \u001b[1;36m0.891\u001b[0m     \u001b[1;36m0.580\u001b[0m          \n",
       "       \u001b[1;36m0.8\u001b[0m               \u001b[1;36m0.43\u001b[0m                 \u001b[1;36m0.891\u001b[0m     \u001b[1;36m0.580\u001b[0m          \n",
       "       \u001b[1;36m0.9\u001b[0m               \u001b[1;36m0.43\u001b[0m                 \u001b[1;36m0.891\u001b[0m     \u001b[1;36m0.580\u001b[0m          \n"
      ]
     },
     "metadata": {},
     "output_type": "display_data"
    },
    {
     "data": {
      "text/html": [
       "<pre style=\"white-space:pre;overflow-x:auto;line-height:normal;font-family:Menlo,'DejaVu Sans Mono',consolas,'Courier New',monospace\"> - THRESHOLD RECOMMENDATIONS\n",
       "</pre>\n"
      ],
      "text/plain": [
       " - THRESHOLD RECOMMENDATIONS\n"
      ]
     },
     "metadata": {},
     "output_type": "display_data"
    },
    {
     "data": {
      "text/html": [
       "<pre style=\"white-space:pre;overflow-x:auto;line-height:normal;font-family:Menlo,'DejaVu Sans Mono',consolas,'Courier New',monospace\">   - Balanced Performance <span style=\"font-weight: bold\">(</span>Best F1<span style=\"font-weight: bold\">)</span>      threshold = <span style=\"color: #008080; text-decoration-color: #008080; font-weight: bold\">0.4</span> <span style=\"font-weight: bold\">(</span><span style=\"color: #808000; text-decoration-color: #808000\">F1</span>=<span style=\"color: #008080; text-decoration-color: #008080; font-weight: bold\">0.686</span><span style=\"font-weight: bold\">)</span>\n",
       "</pre>\n"
      ],
      "text/plain": [
       "   - Balanced Performance \u001b[1m(\u001b[0mBest F1\u001b[1m)\u001b[0m      threshold = \u001b[1;36m0.4\u001b[0m \u001b[1m(\u001b[0m\u001b[33mF1\u001b[0m=\u001b[1;36m0\u001b[0m\u001b[1;36m.686\u001b[0m\u001b[1m)\u001b[0m\n"
      ]
     },
     "metadata": {},
     "output_type": "display_data"
    },
    {
     "data": {
      "text/html": [
       "<pre style=\"white-space:pre;overflow-x:auto;line-height:normal;font-family:Menlo,'DejaVu Sans Mono',consolas,'Courier New',monospace\">   - Maximum Detection <span style=\"font-weight: bold\">(</span>Best Recall<span style=\"font-weight: bold\">)</span>     threshold = <span style=\"color: #008080; text-decoration-color: #008080; font-weight: bold\">0.0</span> <span style=\"font-weight: bold\">(</span><span style=\"color: #808000; text-decoration-color: #808000\">Recall</span>=<span style=\"color: #008080; text-decoration-color: #008080; font-weight: bold\">1.000</span><span style=\"font-weight: bold\">)</span>\n",
       "</pre>\n"
      ],
      "text/plain": [
       "   - Maximum Detection \u001b[1m(\u001b[0mBest Recall\u001b[1m)\u001b[0m     threshold = \u001b[1;36m0.0\u001b[0m \u001b[1m(\u001b[0m\u001b[33mRecall\u001b[0m=\u001b[1;36m1\u001b[0m\u001b[1;36m.000\u001b[0m\u001b[1m)\u001b[0m\n"
      ]
     },
     "metadata": {},
     "output_type": "display_data"
    },
    {
     "data": {
      "text/html": [
       "<pre style=\"white-space:pre;overflow-x:auto;line-height:normal;font-family:Menlo,'DejaVu Sans Mono',consolas,'Courier New',monospace\">   - Minimum <span style=\"color: #ff0000; text-decoration-color: #ff0000; font-style: italic\">False</span> Alarms <span style=\"font-weight: bold\">(</span>Best Precision<span style=\"font-weight: bold\">)</span> threshold = <span style=\"color: #008080; text-decoration-color: #008080; font-weight: bold\">0.7</span> <span style=\"font-weight: bold\">(</span><span style=\"color: #808000; text-decoration-color: #808000\">Precision</span>=<span style=\"color: #008080; text-decoration-color: #008080; font-weight: bold\">0.891</span><span style=\"font-weight: bold\">)</span>\n",
       "</pre>\n"
      ],
      "text/plain": [
       "   - Minimum \u001b[3;91mFalse\u001b[0m Alarms \u001b[1m(\u001b[0mBest Precision\u001b[1m)\u001b[0m threshold = \u001b[1;36m0.7\u001b[0m \u001b[1m(\u001b[0m\u001b[33mPrecision\u001b[0m=\u001b[1;36m0\u001b[0m\u001b[1;36m.891\u001b[0m\u001b[1m)\u001b[0m\n"
      ]
     },
     "metadata": {},
     "output_type": "display_data"
    }
   ],
   "source": [
    "# Set professional seaborn style\n",
    "sns.set_style('whitegrid')\n",
    "sns.set_palette('Set2')\n",
    "plt.rcParams['figure.facecolor'] = 'white'\n",
    "plt.rcParams['axes.facecolor'] = 'white'\n",
    "\n",
    "# Get probability predictions for threshold analysis\n",
    "print('Getting probability predictions from k-NN model...')\n",
    "y_pred_proba = best_model.predict_proba(X_test)[:, 1]  # Probability of withdrawal (class 1)\n",
    "\n",
    "# Threshold vs Performance Chart\n",
    "print('Creating Professional Threshold vs Performance Chart for k-NN')\n",
    "\n",
    "# Define threshold range (0.0 to 1.0 in 0.1 increments)\n",
    "thresholds = np.arange(0.0, 1.0, 0.1)\n",
    "\n",
    "# Store results\n",
    "withdrawal_precisions = []\n",
    "withdrawal_recalls = []\n",
    "\n",
    "# Calculate precision and recall for each threshold\n",
    "for threshold in thresholds:\n",
    "    # Make predictions using this threshold\n",
    "    y_pred_thresh = (y_pred_proba >= threshold).astype(int)\n",
    "    \n",
    "    # Calculate confusion matrix\n",
    "    cm_thresh = confusion_matrix(y_test, y_pred_thresh)\n",
    "    \n",
    "    # Handle edge cases where no predictions are made for a class\n",
    "    if cm_thresh.shape != (2, 2):\n",
    "        # If threshold is too high/low, some classes might not be predicted\n",
    "        if threshold >= 1.0:\n",
    "            # No withdrawals predicted\n",
    "            withdrawal_recalls.append(0.0)\n",
    "            withdrawal_precisions.append(0.0)\n",
    "        else:\n",
    "            # All predicted as withdrawals\n",
    "            withdrawal_recalls.append(1.0)\n",
    "            withdrawal_precisions.append(sum(y_test) / len(y_test))\n",
    "    else:\n",
    "        tn, fp, fn, tp = cm_thresh.ravel()\n",
    "        \n",
    "        # Withdrawal recall (sensitivity for class 1)\n",
    "        recall = tp / (tp + fn) if (tp + fn) > 0 else 0.0\n",
    "        \n",
    "        # Withdrawal precision (positive predictive value for class 1)  \n",
    "        precision = tp / (tp + fp) if (tp + fp) > 0 else 0.0\n",
    "        \n",
    "        withdrawal_recalls.append(recall)\n",
    "        withdrawal_precisions.append(precision)\n",
    "\n",
    "# Create professional plot with seaborn styling\n",
    "fig, ax = plt.subplots(figsize=(12, 6))\n",
    "\n",
    "# Define professional color palette\n",
    "colors = sns.color_palette('husl', 3)\n",
    "recall_color = colors[0]  # Blue-ish\n",
    "precision_color = colors[1]  # Orange-ish\n",
    "current_color = colors[2]  # Green-ish\n",
    "\n",
    "# Plot both lines with enhanced styling\n",
    "ax.plot(thresholds, withdrawal_recalls, \n",
    "        color=recall_color, linewidth=4, marker='o', markersize=8, \n",
    "        markerfacecolor='white', markeredgecolor=recall_color, markeredgewidth=2,\n",
    "        label='Withdrawal Recall (Detection Rate)', alpha=0.9)\n",
    "\n",
    "ax.plot(thresholds, withdrawal_precisions, \n",
    "        color=precision_color, linewidth=4, marker='s', markersize=8,\n",
    "        markerfacecolor='white', markeredgecolor=precision_color, markeredgewidth=2,\n",
    "        label='Withdrawal Precision (Accuracy)', alpha=0.9)\n",
    "\n",
    "# Mark current model (0.5 threshold) with enhanced styling\n",
    "current_idx = 5  # 0.5 is at index 5 in our array\n",
    "ax.scatter(0.5, withdrawal_recalls[current_idx], s=200, \n",
    "          color=current_color, edgecolor='white', linewidth=3, zorder=5,\n",
    "          label=f'Current k-NN Model (threshold=0.5)')\n",
    "\n",
    "# Add annotation for current model\n",
    "ax.annotate(f'Current Model\\nRecall: {withdrawal_recalls[current_idx]:.3f}\\nPrecision: {withdrawal_precisions[current_idx]:.3f}',\n",
    "            xy=(0.5, withdrawal_recalls[current_idx]), \n",
    "            xytext=(0.5, 0.5), fontsize=11,\n",
    "            bbox=dict(boxstyle='round,pad=0.3', facecolor=current_color, alpha=0.3),\n",
    "            arrowprops=dict(arrowstyle='->', color=current_color, lw=2))\n",
    "\n",
    "# Enhanced formatting\n",
    "ax.set_xlabel('Prediction Threshold', fontsize=16, fontweight='bold')\n",
    "ax.set_ylabel('Performance Score', fontsize=16, fontweight='bold')\n",
    "ax.set_title('k-NN Model: Withdrawal Detection Performance by Threshold', \n",
    "             fontsize=18, fontweight='bold', pad=20)\n",
    "\n",
    "# Customise grid\n",
    "ax.grid(True, alpha=0.3, linestyle='--')\n",
    "ax.set_axisbelow(True)\n",
    "\n",
    "# Enhanced legend - moved to bottom left\n",
    "legend = ax.legend(fontsize=13, frameon=True, shadow=True, \n",
    "                   fancybox=True, framealpha=0.9, loc='lower left')\n",
    "legend.get_frame().set_facecolor('white')\n",
    "\n",
    "# Set limits and ticks\n",
    "ax.set_xlim(-0.05, 1.05)\n",
    "ax.set_ylim(-0.05, 1.05)\n",
    "ax.set_xticks(thresholds)\n",
    "ax.set_xticklabels([f'{t:.1f}' for t in thresholds], fontsize=12)\n",
    "ax.tick_params(axis='y', labelsize=12)\n",
    "\n",
    "# Add professional text box with guidance - moved to top right to avoid legend\n",
    "textstr = '''- Lower threshold → Higher recall (catch more withdrawals)\n",
    "- Higher threshold → Higher precision (fewer false alarms)'''\n",
    "\n",
    "ax.text(0.98, 0.98, textstr, transform=ax.transAxes, fontsize=12,\n",
    "        verticalalignment='top', horizontalalignment='right',\n",
    "        bbox=dict(boxstyle='round,pad=0.5', facecolor='lightblue', alpha=0.8,\n",
    "                 edgecolor='steelblue', linewidth=1))\n",
    "\n",
    "# Remove top and right spines for cleaner look\n",
    "sns.despine(ax=ax)\n",
    "\n",
    "plt.tight_layout()\n",
    "plt.show()\n",
    "\n",
    "# Create professional results table\n",
    "results_df = pd.DataFrame({\n",
    "    'Threshold': thresholds,\n",
    "    'Withdrawal_Recall': withdrawal_recalls,\n",
    "    'Withdrawal_Precision': withdrawal_precisions\n",
    "})\n",
    "\n",
    "# Calculate F1 scores\n",
    "f1_scores = []\n",
    "for i, threshold in enumerate(thresholds):\n",
    "    if withdrawal_precisions[i] + withdrawal_recalls[i] > 0:\n",
    "        f1 = 2 * (withdrawal_precisions[i] * withdrawal_recalls[i]) / (withdrawal_precisions[i] + withdrawal_recalls[i])\n",
    "    else:\n",
    "        f1 = 0.0\n",
    "    f1_scores.append(f1)\n",
    "\n",
    "results_df['F1_Score'] = f1_scores\n",
    "results_df = results_df.round(3)\n",
    "\n",
    "# Add status column\n",
    "results_df['Status'] = results_df['Threshold'].apply(lambda x: '← CURRENT' if x == 0.5 else '')\n",
    "\n",
    "# Style the dataframe display\n",
    "print(' - k-NN THRESHOLD PERFORMANCE ANALYSIS')\n",
    "print(results_df.to_string(index=False))\n",
    "\n",
    "# Professional recommendations section\n",
    "print(' - THRESHOLD RECOMMENDATIONS')\n",
    "\n",
    "best_f1_idx = np.argmax(f1_scores)\n",
    "best_recall_idx = np.argmax(withdrawal_recalls)\n",
    "best_precision_idx = np.argmax(withdrawal_precisions)\n",
    "\n",
    "recommendations = [\n",
    "    ('   - Balanced Performance (Best F1)', thresholds[best_f1_idx], f'F1={f1_scores[best_f1_idx]:.3f}'),\n",
    "    ('   - Maximum Detection (Best Recall)', thresholds[best_recall_idx], f'Recall={withdrawal_recalls[best_recall_idx]:.3f}'),\n",
    "    ('   - Minimum False Alarms (Best Precision)', thresholds[best_precision_idx], f'Precision={withdrawal_precisions[best_precision_idx]:.3f}')\n",
    "]\n",
    "\n",
    "for desc, threshold, metric in recommendations:\n",
    "    print(f'{desc:<40} threshold = {threshold:.1f} ({metric})')\n",
    "\n",
    "# Reset matplotlib style to default for subsequent plots\n",
    "plt.style.use('default')\n"
   ]
  }
 ],
 "metadata": {
  "kernelspec": {
   "display_name": "venv",
   "language": "python",
   "name": "python3"
  },
  "language_info": {
   "codemirror_mode": {
    "name": "ipython",
    "version": 3
   },
   "file_extension": ".py",
   "mimetype": "text/x-python",
   "name": "python",
   "nbconvert_exporter": "python",
   "pygments_lexer": "ipython3",
   "version": "3.11.5"
  }
 },
 "nbformat": 4,
 "nbformat_minor": 5
}
