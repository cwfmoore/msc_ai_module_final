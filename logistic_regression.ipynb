{
 "cells": [
  {
   "cell_type": "markdown",
   "id": "69e2360d",
   "metadata": {},
   "source": [
    "# 1. Setup"
   ]
  },
  {
   "cell_type": "code",
   "execution_count": 14,
   "id": "433d614f",
   "metadata": {},
   "outputs": [],
   "source": [
    "# Standard library\n",
    "from pathlib import Path\n",
    "import tomllib\n",
    "\n",
    "# Core libraries\n",
    "import numpy as np\n",
    "import pandas as pd\n",
    "\n",
    "# Visualisation\n",
    "import matplotlib.pyplot as plt\n",
    "import seaborn as sns\n",
    "from rich import print\n",
    "\n",
    "# Machine learning – preprocessing & modelling\n",
    "from sklearn.compose import ColumnTransformer\n",
    "from sklearn.linear_model import LogisticRegression\n",
    "from sklearn.model_selection import GridSearchCV, StratifiedKFold, train_test_split\n",
    "from sklearn.pipeline import Pipeline\n",
    "from sklearn.preprocessing import MinMaxScaler, OneHotEncoder, StandardScaler\n",
    "\n",
    "# Machine learning – evaluation\n",
    "from sklearn.metrics import (\n",
    "    accuracy_score,\n",
    "    classification_report,\n",
    "    confusion_matrix,\n",
    "    make_scorer,\n",
    "    recall_score\n",
    ")\n",
    "\n",
    "# Set random seed for reproducibility\n",
    "np.random.seed(42)"
   ]
  },
  {
   "cell_type": "code",
   "execution_count": 15,
   "id": "d4f02b66",
   "metadata": {},
   "outputs": [
    {
     "data": {
      "text/html": [
       "<pre style=\"white-space:pre;overflow-x:auto;line-height:normal;font-family:Menlo,'DejaVu Sans Mono',consolas,'Courier New',monospace\">✅ Configuration loaded\n",
       "</pre>\n"
      ],
      "text/plain": [
       "✅ Configuration loaded\n"
      ]
     },
     "metadata": {},
     "output_type": "display_data"
    },
    {
     "data": {
      "text/html": [
       "<pre style=\"white-space:pre;overflow-x:auto;line-height:normal;font-family:Menlo,'DejaVu Sans Mono',consolas,'Courier New',monospace\">✅ Dataset loaded: <span style=\"color: #008080; text-decoration-color: #008080; font-weight: bold\">4</span>,<span style=\"color: #008080; text-decoration-color: #008080; font-weight: bold\">424</span> rows × <span style=\"color: #008080; text-decoration-color: #008080; font-weight: bold\">37</span> columns\n",
       "</pre>\n"
      ],
      "text/plain": [
       "✅ Dataset loaded: \u001b[1;36m4\u001b[0m,\u001b[1;36m424\u001b[0m rows × \u001b[1;36m37\u001b[0m columns\n"
      ]
     },
     "metadata": {},
     "output_type": "display_data"
    }
   ],
   "source": [
    "# Load configuration\n",
    "with open('config.toml', 'rb') as f:\n",
    "   config = tomllib.load(f)\n",
    "\n",
    "print(\"✅ Configuration loaded\")\n",
    "\n",
    "# Load dataset\n",
    "dataset_path = Path('datasets/dataset_raw.csv')\n",
    "df = pd.read_csv(dataset_path, delimiter=';')\n",
    "\n",
    "print(f\"✅ Dataset loaded: {df.shape[0]:,} rows × {df.shape[1]:,} columns\")\n"
   ]
  },
  {
   "cell_type": "code",
   "execution_count": 16,
   "id": "653225ac",
   "metadata": {},
   "outputs": [],
   "source": [
    "# Create binary target (1=Withdrawal, 0=Continue)\n",
    "df['target_binary'] = df['Target'].map({'Dropout': 1, 'Graduate': 0, 'Enrolled': 0})"
   ]
  },
  {
   "cell_type": "code",
   "execution_count": 17,
   "id": "6620095b",
   "metadata": {},
   "outputs": [
    {
     "data": {
      "text/html": [
       "<pre style=\"white-space:pre;overflow-x:auto;line-height:normal;font-family:Menlo,'DejaVu Sans Mono',consolas,'Courier New',monospace\"> - Final dataset: <span style=\"color: #008080; text-decoration-color: #008080; font-weight: bold\">4</span>,<span style=\"color: #008080; text-decoration-color: #008080; font-weight: bold\">424</span> rows × <span style=\"color: #008080; text-decoration-color: #008080; font-weight: bold\">38</span> columns\n",
       "</pre>\n"
      ],
      "text/plain": [
       " - Final dataset: \u001b[1;36m4\u001b[0m,\u001b[1;36m424\u001b[0m rows × \u001b[1;36m38\u001b[0m columns\n"
      ]
     },
     "metadata": {},
     "output_type": "display_data"
    }
   ],
   "source": [
    "print(f\" - Final dataset: {df.shape[0]:,} rows × {df.shape[1]:,} columns\")"
   ]
  },
  {
   "cell_type": "markdown",
   "id": "112d3b90",
   "metadata": {},
   "source": [
    "# 2. Feature Selection"
   ]
  },
  {
   "cell_type": "code",
   "execution_count": 18,
   "id": "a36b065a",
   "metadata": {},
   "outputs": [
    {
     "data": {
      "text/html": [
       "<pre style=\"white-space:pre;overflow-x:auto;line-height:normal;font-family:Menlo,'DejaVu Sans Mono',consolas,'Courier New',monospace\">✅ Column names normalised comprehensively <span style=\"font-weight: bold\">(</span>single pass<span style=\"font-weight: bold\">)</span>\n",
       "</pre>\n"
      ],
      "text/plain": [
       "✅ Column names normalised comprehensively \u001b[1m(\u001b[0msingle pass\u001b[1m)\u001b[0m\n"
      ]
     },
     "metadata": {},
     "output_type": "display_data"
    }
   ],
   "source": [
    "def normalise_column_names(df):\n",
    "    \"\"\"Normalise DataFrame column names to snake_case format\"\"\"\n",
    "    def to_snake_case(name):\n",
    "        # Convert to string, strip whitespace, lowercase\n",
    "        name = str(name).strip().lower()\n",
    "        # Replace spaces and apostrophes with underscores\n",
    "        name = name.replace(' ', '_').replace(\"'\", '')\n",
    "        # Remove special characters\n",
    "        name = name.replace('(', '').replace(')', '').replace('/', '_')\n",
    "        name = name.replace('-', '_').replace('.', '_')\n",
    "        # Clean up multiple underscores\n",
    "        while '__' in name:\n",
    "            name = name.replace('__', '_')\n",
    "        # Remove trailing/leading underscores\n",
    "        name = name.strip('_')\n",
    "        return name\n",
    "    \n",
    "    df_copy = df.copy()\n",
    "    original_cols = df_copy.columns.tolist()\n",
    "    df_copy.columns = [to_snake_case(col) for col in df_copy.columns]\n",
    "    \n",
    "    # Validate no duplicate columns after normalization\n",
    "    if len(set(df_copy.columns)) != len(df_copy.columns):\n",
    "        duplicates = [col for col in df_copy.columns if df_copy.columns.tolist().count(col) > 1]\n",
    "        raise ValueError(f\"Column normalization created duplicates: {duplicates}\")\n",
    "    \n",
    "    return df_copy\n",
    "\n",
    "# Apply single comprehensive normalization\n",
    "df = normalise_column_names(df)\n",
    "print('✅ Column names normalised comprehensively (single pass)')"
   ]
  },
  {
   "cell_type": "code",
   "execution_count": 19,
   "id": "ec9884c8",
   "metadata": {},
   "outputs": [
    {
     "data": {
      "text/html": [
       "<pre style=\"white-space:pre;overflow-x:auto;line-height:normal;font-family:Menlo,'DejaVu Sans Mono',consolas,'Courier New',monospace\">🗑️ Dropping <span style=\"color: #008080; text-decoration-color: #008080; font-weight: bold\">18</span> features: <span style=\"font-weight: bold\">[</span><span style=\"color: #008000; text-decoration-color: #008000\">'curricular_units_2nd_sem_credited'</span>, <span style=\"color: #008000; text-decoration-color: #008000\">'curricular_units_2nd_sem_enrolled'</span>, \n",
       "<span style=\"color: #008000; text-decoration-color: #008000\">'curricular_units_2nd_sem_evaluations'</span>, <span style=\"color: #008000; text-decoration-color: #008000\">'curricular_units_2nd_sem_approved'</span>, \n",
       "<span style=\"color: #008000; text-decoration-color: #008000\">'curricular_units_2nd_sem_without_evaluations'</span>, <span style=\"color: #008000; text-decoration-color: #008000\">'curricular_units_2nd_sem_grade'</span>, <span style=\"color: #008000; text-decoration-color: #008000\">'nacionality'</span>, \n",
       "<span style=\"color: #008000; text-decoration-color: #008000\">'educational_special_needs'</span>, <span style=\"color: #008000; text-decoration-color: #008000\">'international'</span>, <span style=\"color: #008000; text-decoration-color: #008000\">'daytime_evening_attendance'</span>, <span style=\"color: #008000; text-decoration-color: #008000\">'displaced'</span>, <span style=\"color: #008000; text-decoration-color: #008000\">'unemployment_rate'</span>, \n",
       "<span style=\"color: #008000; text-decoration-color: #008000\">'inflation_rate'</span>, <span style=\"color: #008000; text-decoration-color: #008000\">'gdp'</span>, <span style=\"color: #008000; text-decoration-color: #008000\">'previous_qualification_grade'</span>, <span style=\"color: #008000; text-decoration-color: #008000\">'curricular_units_1st_sem_approved'</span>, \n",
       "<span style=\"color: #008000; text-decoration-color: #008000\">'curricular_units_1st_sem_enrolled'</span>, <span style=\"color: #008000; text-decoration-color: #008000\">'target'</span><span style=\"font-weight: bold\">]</span>\n",
       "</pre>\n"
      ],
      "text/plain": [
       "🗑️ Dropping \u001b[1;36m18\u001b[0m features: \u001b[1m[\u001b[0m\u001b[32m'curricular_units_2nd_sem_credited'\u001b[0m, \u001b[32m'curricular_units_2nd_sem_enrolled'\u001b[0m, \n",
       "\u001b[32m'curricular_units_2nd_sem_evaluations'\u001b[0m, \u001b[32m'curricular_units_2nd_sem_approved'\u001b[0m, \n",
       "\u001b[32m'curricular_units_2nd_sem_without_evaluations'\u001b[0m, \u001b[32m'curricular_units_2nd_sem_grade'\u001b[0m, \u001b[32m'nacionality'\u001b[0m, \n",
       "\u001b[32m'educational_special_needs'\u001b[0m, \u001b[32m'international'\u001b[0m, \u001b[32m'daytime_evening_attendance'\u001b[0m, \u001b[32m'displaced'\u001b[0m, \u001b[32m'unemployment_rate'\u001b[0m, \n",
       "\u001b[32m'inflation_rate'\u001b[0m, \u001b[32m'gdp'\u001b[0m, \u001b[32m'previous_qualification_grade'\u001b[0m, \u001b[32m'curricular_units_1st_sem_approved'\u001b[0m, \n",
       "\u001b[32m'curricular_units_1st_sem_enrolled'\u001b[0m, \u001b[32m'target'\u001b[0m\u001b[1m]\u001b[0m\n"
      ]
     },
     "metadata": {},
     "output_type": "display_data"
    },
    {
     "data": {
      "text/html": [
       "<pre style=\"white-space:pre;overflow-x:auto;line-height:normal;font-family:Menlo,'DejaVu Sans Mono',consolas,'Courier New',monospace\">✅ Multicollinearity addressed: Removed features with VIF &gt; <span style=\"color: #008080; text-decoration-color: #008080; font-weight: bold\">4.5</span>\n",
       "</pre>\n"
      ],
      "text/plain": [
       "✅ Multicollinearity addressed: Removed features with VIF > \u001b[1;36m4.5\u001b[0m\n"
      ]
     },
     "metadata": {},
     "output_type": "display_data"
    }
   ],
   "source": [
    "# Feature removal - drop problematic features\n",
    "features_to_drop = [\n",
    "    # Data leakage - 2nd semester features (remove to prevent future leakage)\n",
    "    'curricular_units_2nd_sem_credited', 'curricular_units_2nd_sem_enrolled',\n",
    "    'curricular_units_2nd_sem_evaluations', 'curricular_units_2nd_sem_approved',\n",
    "    'curricular_units_2nd_sem_without_evaluations', 'curricular_units_2nd_sem_grade',\n",
    "    # Severely imbalanced features (>97% in one category)\n",
    "    'nacionality', 'educational_special_needs', 'international',\n",
    "    # Zero information value features\n",
    "    'daytime_evening_attendance', 'displaced',\n",
    "    # Weak predictors (correlation < 0.10)\n",
    "    'unemployment_rate', 'inflation_rate', 'gdp', 'previous_qualification_grade',\n",
    "    # Multicollinearity - high VIF features (from EDA analysis)\n",
    "    'curricular_units_1st_sem_approved',  # VIF: 6.38 (highest - must remove)\n",
    "    'curricular_units_1st_sem_enrolled',  # VIF: 4.83 (moderate multicollinearity)\n",
    "    # Original target column\n",
    "    'target'\n",
    "]\n",
    "\n",
    "# Check which features actually exist before dropping\n",
    "existing_features = [col for col in features_to_drop if col in df.columns]\n",
    "missing_features = [col for col in features_to_drop if col not in df.columns]\n",
    "\n",
    "if missing_features:\n",
    "    print(f'⚠️ Warning: Expected features not found: {missing_features}')\n",
    "    \n",
    "print(f'🗑️ Dropping {len(existing_features)} features: {existing_features}')\n",
    "print(f'✅ Multicollinearity addressed: Removed features with VIF > 4.5')\n",
    "df = df.drop(columns=existing_features)"
   ]
  },
  {
   "cell_type": "markdown",
   "id": "bda7329c",
   "metadata": {},
   "source": [
    "# 3. Train Test Split"
   ]
  },
  {
   "cell_type": "code",
   "execution_count": 20,
   "id": "b96cb561",
   "metadata": {},
   "outputs": [
    {
     "data": {
      "text/html": [
       "<pre style=\"white-space:pre;overflow-x:auto;line-height:normal;font-family:Menlo,'DejaVu Sans Mono',consolas,'Courier New',monospace\">📊 Data split <span style=\"font-weight: bold\">(</span><span style=\"color: #008080; text-decoration-color: #008080; font-weight: bold\">80</span>/<span style=\"color: #008080; text-decoration-color: #008080; font-weight: bold\">20</span><span style=\"font-weight: bold\">)</span>:\n",
       "</pre>\n"
      ],
      "text/plain": [
       "📊 Data split \u001b[1m(\u001b[0m\u001b[1;36m80\u001b[0m/\u001b[1;36m20\u001b[0m\u001b[1m)\u001b[0m:\n"
      ]
     },
     "metadata": {},
     "output_type": "display_data"
    },
    {
     "data": {
      "text/html": [
       "<pre style=\"white-space:pre;overflow-x:auto;line-height:normal;font-family:Menlo,'DejaVu Sans Mono',consolas,'Courier New',monospace\">   Training: <span style=\"color: #008080; text-decoration-color: #008080; font-weight: bold\">3</span>,<span style=\"color: #008080; text-decoration-color: #008080; font-weight: bold\">539</span> samples\n",
       "</pre>\n"
      ],
      "text/plain": [
       "   Training: \u001b[1;36m3\u001b[0m,\u001b[1;36m539\u001b[0m samples\n"
      ]
     },
     "metadata": {},
     "output_type": "display_data"
    },
    {
     "data": {
      "text/html": [
       "<pre style=\"white-space:pre;overflow-x:auto;line-height:normal;font-family:Menlo,'DejaVu Sans Mono',consolas,'Courier New',monospace\">   Test: <span style=\"color: #008080; text-decoration-color: #008080; font-weight: bold\">885</span> samples\n",
       "</pre>\n"
      ],
      "text/plain": [
       "   Test: \u001b[1;36m885\u001b[0m samples\n"
      ]
     },
     "metadata": {},
     "output_type": "display_data"
    },
    {
     "data": {
      "text/html": [
       "<pre style=\"white-space:pre;overflow-x:auto;line-height:normal;font-family:Menlo,'DejaVu Sans Mono',consolas,'Courier New',monospace\">\n",
       "🎯 Class distribution:\n",
       "</pre>\n"
      ],
      "text/plain": [
       "\n",
       "🎯 Class distribution:\n"
      ]
     },
     "metadata": {},
     "output_type": "display_data"
    },
    {
     "data": {
      "text/html": [
       "<pre style=\"white-space:pre;overflow-x:auto;line-height:normal;font-family:Menlo,'DejaVu Sans Mono',consolas,'Courier New',monospace\">   Training: <span style=\"font-weight: bold\">{</span><span style=\"color: #008080; text-decoration-color: #008080; font-weight: bold\">0</span>: <span style=\"color: #008080; text-decoration-color: #008080; font-weight: bold\">2402</span>, <span style=\"color: #008080; text-decoration-color: #008080; font-weight: bold\">1</span>: <span style=\"color: #008080; text-decoration-color: #008080; font-weight: bold\">1137</span><span style=\"font-weight: bold\">}</span>\n",
       "</pre>\n"
      ],
      "text/plain": [
       "   Training: \u001b[1m{\u001b[0m\u001b[1;36m0\u001b[0m: \u001b[1;36m2402\u001b[0m, \u001b[1;36m1\u001b[0m: \u001b[1;36m1137\u001b[0m\u001b[1m}\u001b[0m\n"
      ]
     },
     "metadata": {},
     "output_type": "display_data"
    },
    {
     "data": {
      "text/html": [
       "<pre style=\"white-space:pre;overflow-x:auto;line-height:normal;font-family:Menlo,'DejaVu Sans Mono',consolas,'Courier New',monospace\">   Test: <span style=\"font-weight: bold\">{</span><span style=\"color: #008080; text-decoration-color: #008080; font-weight: bold\">0</span>: <span style=\"color: #008080; text-decoration-color: #008080; font-weight: bold\">601</span>, <span style=\"color: #008080; text-decoration-color: #008080; font-weight: bold\">1</span>: <span style=\"color: #008080; text-decoration-color: #008080; font-weight: bold\">284</span><span style=\"font-weight: bold\">}</span>\n",
       "</pre>\n"
      ],
      "text/plain": [
       "   Test: \u001b[1m{\u001b[0m\u001b[1;36m0\u001b[0m: \u001b[1;36m601\u001b[0m, \u001b[1;36m1\u001b[0m: \u001b[1;36m284\u001b[0m\u001b[1m}\u001b[0m\n"
      ]
     },
     "metadata": {},
     "output_type": "display_data"
    },
    {
     "data": {
      "text/html": [
       "<pre style=\"white-space:pre;overflow-x:auto;line-height:normal;font-family:Menlo,'DejaVu Sans Mono',consolas,'Courier New',monospace\">\n",
       "✅ Continuation rate: <span style=\"color: #808000; text-decoration-color: #808000\">Train</span>=<span style=\"color: #008080; text-decoration-color: #008080; font-weight: bold\">0.321</span>, <span style=\"color: #808000; text-decoration-color: #808000\">Test</span>=<span style=\"color: #008080; text-decoration-color: #008080; font-weight: bold\">0.321</span>\n",
       "</pre>\n"
      ],
      "text/plain": [
       "\n",
       "✅ Continuation rate: \u001b[33mTrain\u001b[0m=\u001b[1;36m0\u001b[0m\u001b[1;36m.321\u001b[0m, \u001b[33mTest\u001b[0m=\u001b[1;36m0\u001b[0m\u001b[1;36m.321\u001b[0m\n"
      ]
     },
     "metadata": {},
     "output_type": "display_data"
    },
    {
     "data": {
      "text/html": [
       "<pre style=\"white-space:pre;overflow-x:auto;line-height:normal;font-family:Menlo,'DejaVu Sans Mono',consolas,'Courier New',monospace\">✅ All feature encoding applied safely <span style=\"font-weight: bold\">(</span>training data only<span style=\"font-weight: bold\">)</span>\n",
       "</pre>\n"
      ],
      "text/plain": [
       "✅ All feature encoding applied safely \u001b[1m(\u001b[0mtraining data only\u001b[1m)\u001b[0m\n"
      ]
     },
     "metadata": {},
     "output_type": "display_data"
    }
   ],
   "source": [
    "# Prepare features and target\n",
    "X = df.drop('target_binary', axis=1)\n",
    "y = df['target_binary']\n",
    "\n",
    "# Split the data using config parameters\n",
    "train_size = config['logistic_regression_model']['train_size']\n",
    "\n",
    "X_train, X_test, y_train, y_test = train_test_split(\n",
    "    X, y,\n",
    "    train_size=train_size,\n",
    "    stratify=y,\n",
    "    random_state=42\n",
    ")\n",
    "\n",
    "# Apply withdrawal rate encoding AFTER split to prevent data leakage\n",
    "def encode_withdrawal_rate_safe(X_train, X_test, y_train, col):\n",
    "    \"\"\"Encode withdrawal rates using training data only\"\"\"\n",
    "    # Ensure explicit index alignment to prevent data corruption\n",
    "    X_train_aligned = X_train.reset_index(drop=True)\n",
    "    y_train_aligned = y_train.reset_index(drop=True)\n",
    "    \n",
    "    temp_df = pd.concat([X_train_aligned[col], (y_train_aligned == 0)], axis=1)\n",
    "    temp_df.columns = [col, 'is_withdrawal']\n",
    "    rates = temp_df.groupby(col)['is_withdrawal'].mean()\n",
    "    global_rate = (y_train_aligned == 0).mean()  # Fallback for unseen categories\n",
    "    \n",
    "    X_train[f'{col}_withdrawal_rate'] = X_train[col].map(rates)\n",
    "    X_test[f'{col}_withdrawal_rate'] = X_test[col].map(rates).fillna(global_rate)\n",
    "    X_train = X_train.drop(columns=[col])\n",
    "    X_test = X_test.drop(columns=[col])\n",
    "    return X_train, X_test\n",
    "\n",
    "# Apply to medium cardinality features\n",
    "for col in ['application_mode', 'course', 'previous_qualification']:\n",
    "    X_train, X_test = encode_withdrawal_rate_safe(X_train, X_test, y_train, col)\n",
    "\n",
    "# Create parental features AFTER split to prevent data leakage\n",
    "higher_ed_codes = config['parental_features']['higher_education_codes']\n",
    "professional_codes = config['parental_features']['professional_occupation_codes']\n",
    "\n",
    "for X in [X_train, X_test]:\n",
    "    # Create parental higher education binary indicator\n",
    "    X['parental_higher_education'] = (\n",
    "        (X['mothers_qualification'].isin(higher_ed_codes)) |\n",
    "        (X['fathers_qualification'].isin(higher_ed_codes))\n",
    "    ).astype(int)\n",
    "    \n",
    "    # Create parental professional occupation binary indicator\n",
    "    X['parental_professional_occupation'] = (\n",
    "        (X['mothers_occupation'].isin(professional_codes)) |\n",
    "        (X['fathers_occupation'].isin(professional_codes))\n",
    "    ).astype(int)\n",
    "    \n",
    "    # Drop original parental features\n",
    "    X.drop(columns=['mothers_qualification', 'fathers_qualification', \n",
    "                   'mothers_occupation', 'fathers_occupation'], inplace=True)\n",
    "\n",
    "# Calculate percentages and display results\n",
    "train_pct = int(train_size * 100)\n",
    "test_pct = 100 - train_pct\n",
    "\n",
    "print(f'📊 Data split ({train_pct}/{test_pct}):')\n",
    "print(f'   Training: {X_train.shape[0]:,} samples')\n",
    "print(f'   Test: {X_test.shape[0]:,} samples')\n",
    "\n",
    "print(f'\\n🎯 Class distribution:')\n",
    "print(f'   Training: {y_train.value_counts().to_dict()}')\n",
    "print(f'   Test: {y_test.value_counts().to_dict()}')\n",
    "\n",
    "# Verify class balance is maintained\n",
    "train_ratio = y_train.mean()\n",
    "test_ratio = y_test.mean()\n",
    "print(f'\\n✅ Continuation rate: Train={train_ratio:.3f}, Test={test_ratio:.3f}')\n",
    "print(f'✅ All feature encoding applied safely (training data only)')"
   ]
  },
  {
   "cell_type": "markdown",
   "id": "2bbd64b4",
   "metadata": {},
   "source": [
    "# 4. Pipeline"
   ]
  },
  {
   "cell_type": "code",
   "execution_count": 21,
   "id": "922ba5ba",
   "metadata": {},
   "outputs": [
    {
     "data": {
      "text/html": [
       "<pre style=\"white-space:pre;overflow-x:auto;line-height:normal;font-family:Menlo,'DejaVu Sans Mono',consolas,'Courier New',monospace\">✅ Found <span style=\"color: #008080; text-decoration-color: #008080; font-weight: bold\">3</span> withdrawal rate features: <span style=\"font-weight: bold\">[</span><span style=\"color: #008000; text-decoration-color: #008000\">'application_mode_withdrawal_rate'</span>, <span style=\"color: #008000; text-decoration-color: #008000\">'course_withdrawal_rate'</span>, \n",
       "<span style=\"color: #008000; text-decoration-color: #008000\">'previous_qualification_withdrawal_rate'</span><span style=\"font-weight: bold\">]</span>\n",
       "</pre>\n"
      ],
      "text/plain": [
       "✅ Found \u001b[1;36m3\u001b[0m withdrawal rate features: \u001b[1m[\u001b[0m\u001b[32m'application_mode_withdrawal_rate'\u001b[0m, \u001b[32m'course_withdrawal_rate'\u001b[0m, \n",
       "\u001b[32m'previous_qualification_withdrawal_rate'\u001b[0m\u001b[1m]\u001b[0m\n"
      ]
     },
     "metadata": {},
     "output_type": "display_data"
    },
    {
     "data": {
      "text/html": [
       "<pre style=\"white-space:pre;overflow-x:auto;line-height:normal;font-family:Menlo,'DejaVu Sans Mono',consolas,'Courier New',monospace\">🔧 Preprocessing pipeline created:\n",
       "</pre>\n"
      ],
      "text/plain": [
       "🔧 Preprocessing pipeline created:\n"
      ]
     },
     "metadata": {},
     "output_type": "display_data"
    },
    {
     "data": {
      "text/html": [
       "<pre style=\"white-space:pre;overflow-x:auto;line-height:normal;font-family:Menlo,'DejaVu Sans Mono',consolas,'Courier New',monospace\">   Scaler: standard <span style=\"font-weight: bold\">(</span>applied to <span style=\"color: #008080; text-decoration-color: #008080; font-weight: bold\">9</span> continuous features<span style=\"font-weight: bold\">)</span>\n",
       "</pre>\n"
      ],
      "text/plain": [
       "   Scaler: standard \u001b[1m(\u001b[0mapplied to \u001b[1;36m9\u001b[0m continuous features\u001b[1m)\u001b[0m\n"
      ]
     },
     "metadata": {},
     "output_type": "display_data"
    },
    {
     "data": {
      "text/html": [
       "<pre style=\"white-space:pre;overflow-x:auto;line-height:normal;font-family:Menlo,'DejaVu Sans Mono',consolas,'Courier New',monospace\">   One-hot encoder: <span style=\"color: #008080; text-decoration-color: #008080; font-weight: bold\">6</span> categorical features\n",
       "</pre>\n"
      ],
      "text/plain": [
       "   One-hot encoder: \u001b[1;36m6\u001b[0m categorical features\n"
      ]
     },
     "metadata": {},
     "output_type": "display_data"
    },
    {
     "data": {
      "text/html": [
       "<pre style=\"white-space:pre;overflow-x:auto;line-height:normal;font-family:Menlo,'DejaVu Sans Mono',consolas,'Courier New',monospace\">   Binary features <span style=\"font-weight: bold\">(</span>no scaling<span style=\"font-weight: bold\">)</span>: <span style=\"color: #008080; text-decoration-color: #008080; font-weight: bold\">2</span> features\n",
       "</pre>\n"
      ],
      "text/plain": [
       "   Binary features \u001b[1m(\u001b[0mno scaling\u001b[1m)\u001b[0m: \u001b[1;36m2\u001b[0m features\n"
      ]
     },
     "metadata": {},
     "output_type": "display_data"
    },
    {
     "data": {
      "text/html": [
       "<pre style=\"white-space:pre;overflow-x:auto;line-height:normal;font-family:Menlo,'DejaVu Sans Mono',consolas,'Courier New',monospace\">✅ All <span style=\"color: #008080; text-decoration-color: #008080; font-weight: bold\">17</span> features explicitly handled\n",
       "</pre>\n"
      ],
      "text/plain": [
       "✅ All \u001b[1;36m17\u001b[0m features explicitly handled\n"
      ]
     },
     "metadata": {},
     "output_type": "display_data"
    }
   ],
   "source": [
    "# Get scaler type from config\n",
    "scaler_type = config['logistic_regression_model']['scaler_type']\n",
    "\n",
    "if scaler_type == 'standard':\n",
    "    scaler = StandardScaler()\n",
    "elif scaler_type == 'minmax':\n",
    "    scaler = MinMaxScaler()\n",
    "else:\n",
    "    raise ValueError(f'Unknown scaler type: {scaler_type}')\n",
    "\n",
    "# Get feature lists from config and filter for features that actually exist in our processed dataset\n",
    "config_continuous = config['dataset_features']['continuous_features']\n",
    "config_categorical = config['dataset_features']['categorical_features']\n",
    "\n",
    "# Filter continuous features to only include those present after all transformations\n",
    "continuous_features = [f for f in config_continuous if f in X_train.columns]\n",
    "\n",
    "# Add withdrawal rate features if they were created successfully during preprocessing\n",
    "expected_withdrawal_features = ['application_mode_withdrawal_rate', 'course_withdrawal_rate', \n",
    "                               'previous_qualification_withdrawal_rate']\n",
    "existing_withdrawal_features = [f for f in expected_withdrawal_features if f in X_train.columns]\n",
    "missing_withdrawal_features = [f for f in expected_withdrawal_features if f not in X_train.columns]\n",
    "\n",
    "if missing_withdrawal_features:\n",
    "    print(f'⚠️ Warning: Expected withdrawal rate features missing: {missing_withdrawal_features}')\n",
    "    \n",
    "print(f'✅ Found {len(existing_withdrawal_features)} withdrawal rate features: {existing_withdrawal_features}')\n",
    "continuous_features.extend(existing_withdrawal_features)\n",
    "\n",
    "# Filter categorical features to only include those present after transformations\n",
    "categorical_features = [f for f in config_categorical if f in X_train.columns]\n",
    "\n",
    "# Binary features created during preprocessing\n",
    "binary_features = ['parental_higher_education', 'parental_professional_occupation']\n",
    "\n",
    "# Verify all features are explicitly handled\n",
    "all_handled_features = continuous_features + categorical_features + binary_features\n",
    "actual_features = X_train.columns.tolist()\n",
    "unhandled_features = set(actual_features) - set(all_handled_features)\n",
    "\n",
    "if unhandled_features:\n",
    "    print(f'⚠️ Unhandled features detected: {sorted(unhandled_features)}')\n",
    "    print('🔧 Please categorise these features explicitly')\n",
    "    raise ValueError(f'All features must be explicitly categorised. Unhandled: {unhandled_features}')\n",
    "\n",
    "# Create preprocessing pipeline with explicit feature handling only\n",
    "preprocessor = ColumnTransformer(\n",
    "    transformers=[\n",
    "        ('scaler', scaler, continuous_features),\n",
    "        ('onehot', OneHotEncoder(drop='first', sparse_output=False, handle_unknown='ignore'), categorical_features),\n",
    "        ('passthrough', 'passthrough', binary_features)\n",
    "    ],\n",
    "    remainder='drop'\n",
    ")\n",
    "\n",
    "print(f'🔧 Preprocessing pipeline created:')\n",
    "print(f'   Scaler: {scaler_type} (applied to {len(continuous_features)} continuous features)')\n",
    "print(f'   One-hot encoder: {len(categorical_features)} categorical features')\n",
    "print(f'   Binary features (no scaling): {len(binary_features)} features')\n",
    "print(f'✅ All {len(all_handled_features)} features explicitly handled')"
   ]
  },
  {
   "cell_type": "markdown",
   "id": "35859b0e",
   "metadata": {},
   "source": [
    "# 5. Model Training"
   ]
  },
  {
   "cell_type": "code",
   "execution_count": 22,
   "id": "6c4b4a4d",
   "metadata": {},
   "outputs": [],
   "source": [
    "# Create withdrawal recall scorer (withdrawal detection rate)\n",
    "withdrawal_recall_scorer = make_scorer(recall_score, pos_label=1)"
   ]
  },
  {
   "cell_type": "code",
   "execution_count": 23,
   "id": "a38bc244",
   "metadata": {},
   "outputs": [
    {
     "data": {
      "text/html": [
       "<pre style=\"white-space:pre;overflow-x:auto;line-height:normal;font-family:Menlo,'DejaVu Sans Mono',consolas,'Courier New',monospace\">🔍 Starting grid search with <span style=\"color: #008080; text-decoration-color: #008080; font-weight: bold\">20</span> combinations\n",
       "</pre>\n"
      ],
      "text/plain": [
       "🔍 Starting grid search with \u001b[1;36m20\u001b[0m combinations\n"
      ]
     },
     "metadata": {},
     "output_type": "display_data"
    },
    {
     "data": {
      "text/html": [
       "<pre style=\"white-space:pre;overflow-x:auto;line-height:normal;font-family:Menlo,'DejaVu Sans Mono',consolas,'Courier New',monospace\">   CV folds: <span style=\"color: #008080; text-decoration-color: #008080; font-weight: bold\">5</span> <span style=\"font-weight: bold\">(</span>from config<span style=\"font-weight: bold\">)</span>\n",
       "</pre>\n"
      ],
      "text/plain": [
       "   CV folds: \u001b[1;36m5\u001b[0m \u001b[1m(\u001b[0mfrom config\u001b[1m)\u001b[0m\n"
      ]
     },
     "metadata": {},
     "output_type": "display_data"
    },
    {
     "name": "stdout",
     "output_type": "stream",
     "text": [
      "Fitting 5 folds for each of 20 candidates, totalling 100 fits\n"
     ]
    },
    {
     "data": {
      "text/html": [
       "<pre style=\"white-space:pre;overflow-x:auto;line-height:normal;font-family:Menlo,'DejaVu Sans Mono',consolas,'Courier New',monospace\">\n",
       "✅ Best parameters: <span style=\"font-weight: bold\">{</span><span style=\"color: #008000; text-decoration-color: #008000\">'classifier__C'</span>: <span style=\"color: #008080; text-decoration-color: #008080; font-weight: bold\">0.1</span>, <span style=\"color: #008000; text-decoration-color: #008000\">'classifier__class_weight'</span>: <span style=\"color: #008000; text-decoration-color: #008000\">'balanced'</span>, <span style=\"color: #008000; text-decoration-color: #008000\">'classifier__penalty'</span>: <span style=\"color: #008000; text-decoration-color: #008000\">'l2'</span>, \n",
       "<span style=\"color: #008000; text-decoration-color: #008000\">'classifier__solver'</span>: <span style=\"color: #008000; text-decoration-color: #008000\">'lbfgs'</span><span style=\"font-weight: bold\">}</span>\n",
       "</pre>\n"
      ],
      "text/plain": [
       "\n",
       "✅ Best parameters: \u001b[1m{\u001b[0m\u001b[32m'classifier__C'\u001b[0m: \u001b[1;36m0.1\u001b[0m, \u001b[32m'classifier__class_weight'\u001b[0m: \u001b[32m'balanced'\u001b[0m, \u001b[32m'classifier__penalty'\u001b[0m: \u001b[32m'l2'\u001b[0m, \n",
       "\u001b[32m'classifier__solver'\u001b[0m: \u001b[32m'lbfgs'\u001b[0m\u001b[1m}\u001b[0m\n"
      ]
     },
     "metadata": {},
     "output_type": "display_data"
    },
    {
     "data": {
      "text/html": [
       "<pre style=\"white-space:pre;overflow-x:auto;line-height:normal;font-family:Menlo,'DejaVu Sans Mono',consolas,'Courier New',monospace\">✅ Best CV score <span style=\"font-weight: bold\">(</span>withdrawal recall<span style=\"font-weight: bold\">)</span>: <span style=\"color: #008080; text-decoration-color: #008080; font-weight: bold\">0.736</span>\n",
       "</pre>\n"
      ],
      "text/plain": [
       "✅ Best CV score \u001b[1m(\u001b[0mwithdrawal recall\u001b[1m)\u001b[0m: \u001b[1;36m0.736\u001b[0m\n"
      ]
     },
     "metadata": {},
     "output_type": "display_data"
    }
   ],
   "source": [
    "\n",
    "# Get parameters from config\n",
    "logistic_config = config['logistic_regression_model']\n",
    "grid_config = config['logistic_regression_grid_search']\n",
    "cv_folds = config['logistic_regression_grid_search']['cv_folds']\n",
    "\n",
    "# Convert config values\n",
    "class_weights = [None if w == \"none\" else w for w in grid_config['class_weights']]\n",
    "\n",
    "# Define parameter grid using config values\n",
    "param_grid = [\n",
    "    {\n",
    "        'classifier__C': grid_config['C_values'],\n",
    "        'classifier__penalty': ['l1'],\n",
    "        'classifier__solver': ['liblinear'], \n",
    "        'classifier__class_weight': class_weights\n",
    "    },\n",
    "    {\n",
    "        'classifier__C': grid_config['C_values'],\n",
    "        'classifier__penalty': ['l2'],\n",
    "        'classifier__solver': ['lbfgs'],\n",
    "        'classifier__class_weight': class_weights\n",
    "    }\n",
    "]\n",
    "\n",
    "# Create pipeline using config values\n",
    "pipeline = Pipeline([\n",
    "    ('preprocessor', preprocessor),\n",
    "    ('classifier', LogisticRegression(\n",
    "        random_state=grid_config['random_state'], \n",
    "        max_iter=grid_config['max_iter']\n",
    "    ))\n",
    "])\n",
    "\n",
    "# Calculate total combinations\n",
    "total_combinations = sum(len(grid['classifier__C']) * len(grid['classifier__class_weight']) for grid in param_grid)\n",
    "\n",
    "# Perform grid search\n",
    "grid_search = GridSearchCV(\n",
    "    pipeline,\n",
    "    param_grid,\n",
    "    cv=StratifiedKFold(n_splits=cv_folds, shuffle=True, random_state=42),\n",
    "    scoring=withdrawal_recall_scorer,\n",
    "    n_jobs=-1,\n",
    "    verbose=1\n",
    ")\n",
    "\n",
    "print(f'🔍 Starting grid search with {total_combinations} combinations')\n",
    "print(f'   CV folds: {cv_folds} (from config)')\n",
    "\n",
    "# Fit the model\n",
    "grid_search.fit(X_train, y_train)\n",
    "\n",
    "print(f'\\n✅ Best parameters: {grid_search.best_params_}')\n",
    "print(f'✅ Best CV score (withdrawal recall): {grid_search.best_score_:.3f}')"
   ]
  },
  {
   "cell_type": "code",
   "execution_count": 24,
   "id": "619cdf05",
   "metadata": {},
   "outputs": [],
   "source": [
    "# Quick check to see which categorical feature has unseen categories\n",
    "for i, cat_feature in enumerate(categorical_features):\n",
    "    train_cats = set(X_train[cat_feature].unique())\n",
    "    test_cats = set(X_test[cat_feature].unique())\n",
    "    unseen = test_cats - train_cats\n",
    "    if unseen:\n",
    "        print(f'{cat_feature} has unseen categories in test: {unseen}')"
   ]
  },
  {
   "cell_type": "markdown",
   "id": "47e0f1e4",
   "metadata": {},
   "source": [
    "# 6. Evaluation"
   ]
  },
  {
   "cell_type": "code",
   "execution_count": 25,
   "id": "e80714d3",
   "metadata": {},
   "outputs": [
    {
     "data": {
      "text/html": [
       "<pre style=\"white-space:pre;overflow-x:auto;line-height:normal;font-family:Menlo,'DejaVu Sans Mono',consolas,'Courier New',monospace\">📊 Model Performance:\n",
       "</pre>\n"
      ],
      "text/plain": [
       "📊 Model Performance:\n"
      ]
     },
     "metadata": {},
     "output_type": "display_data"
    },
    {
     "data": {
      "text/html": [
       "<pre style=\"white-space:pre;overflow-x:auto;line-height:normal;font-family:Menlo,'DejaVu Sans Mono',consolas,'Courier New',monospace\">   Accuracy: <span style=\"color: #008080; text-decoration-color: #008080; font-weight: bold\">0.810</span>\n",
       "</pre>\n"
      ],
      "text/plain": [
       "   Accuracy: \u001b[1;36m0.810\u001b[0m\n"
      ]
     },
     "metadata": {},
     "output_type": "display_data"
    },
    {
     "data": {
      "text/html": [
       "<pre style=\"white-space:pre;overflow-x:auto;line-height:normal;font-family:Menlo,'DejaVu Sans Mono',consolas,'Courier New',monospace\">   Withdrawal recall <span style=\"font-weight: bold\">(</span>class-<span style=\"color: #008080; text-decoration-color: #008080; font-weight: bold\">1</span><span style=\"font-weight: bold\">)</span>: <span style=\"color: #008080; text-decoration-color: #008080; font-weight: bold\">0.743</span>\n",
       "</pre>\n"
      ],
      "text/plain": [
       "   Withdrawal recall \u001b[1m(\u001b[0mclass-\u001b[1;36m1\u001b[0m\u001b[1m)\u001b[0m: \u001b[1;36m0.743\u001b[0m\n"
      ]
     },
     "metadata": {},
     "output_type": "display_data"
    },
    {
     "data": {
      "text/html": [
       "<pre style=\"white-space:pre;overflow-x:auto;line-height:normal;font-family:Menlo,'DejaVu Sans Mono',consolas,'Courier New',monospace\">   Continuation recall <span style=\"font-weight: bold\">(</span>class-<span style=\"color: #008080; text-decoration-color: #008080; font-weight: bold\">0</span><span style=\"font-weight: bold\">)</span>: <span style=\"color: #008080; text-decoration-color: #008080; font-weight: bold\">0.842</span>\n",
       "</pre>\n"
      ],
      "text/plain": [
       "   Continuation recall \u001b[1m(\u001b[0mclass-\u001b[1;36m0\u001b[0m\u001b[1m)\u001b[0m: \u001b[1;36m0.842\u001b[0m\n"
      ]
     },
     "metadata": {},
     "output_type": "display_data"
    },
    {
     "data": {
      "text/html": [
       "<pre style=\"white-space:pre;overflow-x:auto;line-height:normal;font-family:Menlo,'DejaVu Sans Mono',consolas,'Courier New',monospace\">   Precision <span style=\"font-weight: bold\">(</span>withdrawal<span style=\"font-weight: bold\">)</span>: <span style=\"color: #008080; text-decoration-color: #008080; font-weight: bold\">0.690</span>\n",
       "</pre>\n"
      ],
      "text/plain": [
       "   Precision \u001b[1m(\u001b[0mwithdrawal\u001b[1m)\u001b[0m: \u001b[1;36m0.690\u001b[0m\n"
      ]
     },
     "metadata": {},
     "output_type": "display_data"
    },
    {
     "data": {
      "text/html": [
       "<pre style=\"white-space:pre;overflow-x:auto;line-height:normal;font-family:Menlo,'DejaVu Sans Mono',consolas,'Courier New',monospace\">\n",
       "🔍 CV Scorer Alignment:\n",
       "</pre>\n"
      ],
      "text/plain": [
       "\n",
       "🔍 CV Scorer Alignment:\n"
      ]
     },
     "metadata": {},
     "output_type": "display_data"
    },
    {
     "data": {
      "text/html": [
       "<pre style=\"white-space:pre;overflow-x:auto;line-height:normal;font-family:Menlo,'DejaVu Sans Mono',consolas,'Courier New',monospace\">   Grid search optimised: Class-<span style=\"color: #008080; text-decoration-color: #008080; font-weight: bold\">1</span> recall = <span style=\"color: #008080; text-decoration-color: #008080; font-weight: bold\">0.743</span>\n",
       "</pre>\n"
      ],
      "text/plain": [
       "   Grid search optimised: Class-\u001b[1;36m1\u001b[0m recall = \u001b[1;36m0.743\u001b[0m\n"
      ]
     },
     "metadata": {},
     "output_type": "display_data"
    },
    {
     "data": {
      "text/html": [
       "<pre style=\"white-space:pre;overflow-x:auto;line-height:normal;font-family:Menlo,'DejaVu Sans Mono',consolas,'Courier New',monospace\">   Best CV score was: <span style=\"color: #008080; text-decoration-color: #008080; font-weight: bold\">0.736</span>\n",
       "</pre>\n"
      ],
      "text/plain": [
       "   Best CV score was: \u001b[1;36m0.736\u001b[0m\n"
      ]
     },
     "metadata": {},
     "output_type": "display_data"
    },
    {
     "data": {
      "text/html": [
       "<pre style=\"white-space:pre;overflow-x:auto;line-height:normal;font-family:Menlo,'DejaVu Sans Mono',consolas,'Courier New',monospace\">\n",
       "🎯 Confusion Matrix:\n",
       "</pre>\n"
      ],
      "text/plain": [
       "\n",
       "🎯 Confusion Matrix:\n"
      ]
     },
     "metadata": {},
     "output_type": "display_data"
    },
    {
     "data": {
      "text/html": [
       "<pre style=\"white-space:pre;overflow-x:auto;line-height:normal;font-family:Menlo,'DejaVu Sans Mono',consolas,'Courier New',monospace\">   <span style=\"color: #00ff00; text-decoration-color: #00ff00; font-style: italic\">True</span> Negatives <span style=\"font-weight: bold\">(</span>correct continuations<span style=\"font-weight: bold\">)</span>: <span style=\"color: #008080; text-decoration-color: #008080; font-weight: bold\">506</span>\n",
       "</pre>\n"
      ],
      "text/plain": [
       "   \u001b[3;92mTrue\u001b[0m Negatives \u001b[1m(\u001b[0mcorrect continuations\u001b[1m)\u001b[0m: \u001b[1;36m506\u001b[0m\n"
      ]
     },
     "metadata": {},
     "output_type": "display_data"
    },
    {
     "data": {
      "text/html": [
       "<pre style=\"white-space:pre;overflow-x:auto;line-height:normal;font-family:Menlo,'DejaVu Sans Mono',consolas,'Courier New',monospace\">   <span style=\"color: #ff0000; text-decoration-color: #ff0000; font-style: italic\">False</span> Positives <span style=\"font-weight: bold\">(</span>incorrectly predicted withdrawals<span style=\"font-weight: bold\">)</span>: <span style=\"color: #008080; text-decoration-color: #008080; font-weight: bold\">95</span>\n",
       "</pre>\n"
      ],
      "text/plain": [
       "   \u001b[3;91mFalse\u001b[0m Positives \u001b[1m(\u001b[0mincorrectly predicted withdrawals\u001b[1m)\u001b[0m: \u001b[1;36m95\u001b[0m\n"
      ]
     },
     "metadata": {},
     "output_type": "display_data"
    },
    {
     "data": {
      "text/html": [
       "<pre style=\"white-space:pre;overflow-x:auto;line-height:normal;font-family:Menlo,'DejaVu Sans Mono',consolas,'Courier New',monospace\">   <span style=\"color: #ff0000; text-decoration-color: #ff0000; font-style: italic\">False</span> Negatives <span style=\"font-weight: bold\">(</span>missed withdrawals<span style=\"font-weight: bold\">)</span>: <span style=\"color: #008080; text-decoration-color: #008080; font-weight: bold\">73</span>\n",
       "</pre>\n"
      ],
      "text/plain": [
       "   \u001b[3;91mFalse\u001b[0m Negatives \u001b[1m(\u001b[0mmissed withdrawals\u001b[1m)\u001b[0m: \u001b[1;36m73\u001b[0m\n"
      ]
     },
     "metadata": {},
     "output_type": "display_data"
    },
    {
     "data": {
      "text/html": [
       "<pre style=\"white-space:pre;overflow-x:auto;line-height:normal;font-family:Menlo,'DejaVu Sans Mono',consolas,'Courier New',monospace\">   <span style=\"color: #00ff00; text-decoration-color: #00ff00; font-style: italic\">True</span> Positives <span style=\"font-weight: bold\">(</span>correct withdrawals<span style=\"font-weight: bold\">)</span>: <span style=\"color: #008080; text-decoration-color: #008080; font-weight: bold\">211</span>\n",
       "</pre>\n"
      ],
      "text/plain": [
       "   \u001b[3;92mTrue\u001b[0m Positives \u001b[1m(\u001b[0mcorrect withdrawals\u001b[1m)\u001b[0m: \u001b[1;36m211\u001b[0m\n"
      ]
     },
     "metadata": {},
     "output_type": "display_data"
    },
    {
     "data": {
      "text/html": [
       "<pre style=\"white-space:pre;overflow-x:auto;line-height:normal;font-family:Menlo,'DejaVu Sans Mono',consolas,'Courier New',monospace\">\n",
       "📈 Classification Report:\n",
       "</pre>\n"
      ],
      "text/plain": [
       "\n",
       "📈 Classification Report:\n"
      ]
     },
     "metadata": {},
     "output_type": "display_data"
    },
    {
     "data": {
      "text/html": [
       "<pre style=\"white-space:pre;overflow-x:auto;line-height:normal;font-family:Menlo,'DejaVu Sans Mono',consolas,'Courier New',monospace\">              precision    recall  f1-score   support\n",
       "\n",
       "Continuation       <span style=\"color: #008080; text-decoration-color: #008080; font-weight: bold\">0.87</span>      <span style=\"color: #008080; text-decoration-color: #008080; font-weight: bold\">0.84</span>      <span style=\"color: #008080; text-decoration-color: #008080; font-weight: bold\">0.86</span>       <span style=\"color: #008080; text-decoration-color: #008080; font-weight: bold\">601</span>\n",
       "  Withdrawal       <span style=\"color: #008080; text-decoration-color: #008080; font-weight: bold\">0.69</span>      <span style=\"color: #008080; text-decoration-color: #008080; font-weight: bold\">0.74</span>      <span style=\"color: #008080; text-decoration-color: #008080; font-weight: bold\">0.72</span>       <span style=\"color: #008080; text-decoration-color: #008080; font-weight: bold\">284</span>\n",
       "\n",
       "    accuracy                           <span style=\"color: #008080; text-decoration-color: #008080; font-weight: bold\">0.81</span>       <span style=\"color: #008080; text-decoration-color: #008080; font-weight: bold\">885</span>\n",
       "   macro avg       <span style=\"color: #008080; text-decoration-color: #008080; font-weight: bold\">0.78</span>      <span style=\"color: #008080; text-decoration-color: #008080; font-weight: bold\">0.79</span>      <span style=\"color: #008080; text-decoration-color: #008080; font-weight: bold\">0.79</span>       <span style=\"color: #008080; text-decoration-color: #008080; font-weight: bold\">885</span>\n",
       "weighted avg       <span style=\"color: #008080; text-decoration-color: #008080; font-weight: bold\">0.81</span>      <span style=\"color: #008080; text-decoration-color: #008080; font-weight: bold\">0.81</span>      <span style=\"color: #008080; text-decoration-color: #008080; font-weight: bold\">0.81</span>       <span style=\"color: #008080; text-decoration-color: #008080; font-weight: bold\">885</span>\n",
       "\n",
       "</pre>\n"
      ],
      "text/plain": [
       "              precision    recall  f1-score   support\n",
       "\n",
       "Continuation       \u001b[1;36m0.87\u001b[0m      \u001b[1;36m0.84\u001b[0m      \u001b[1;36m0.86\u001b[0m       \u001b[1;36m601\u001b[0m\n",
       "  Withdrawal       \u001b[1;36m0.69\u001b[0m      \u001b[1;36m0.74\u001b[0m      \u001b[1;36m0.72\u001b[0m       \u001b[1;36m284\u001b[0m\n",
       "\n",
       "    accuracy                           \u001b[1;36m0.81\u001b[0m       \u001b[1;36m885\u001b[0m\n",
       "   macro avg       \u001b[1;36m0.78\u001b[0m      \u001b[1;36m0.79\u001b[0m      \u001b[1;36m0.79\u001b[0m       \u001b[1;36m885\u001b[0m\n",
       "weighted avg       \u001b[1;36m0.81\u001b[0m      \u001b[1;36m0.81\u001b[0m      \u001b[1;36m0.81\u001b[0m       \u001b[1;36m885\u001b[0m\n",
       "\n"
      ]
     },
     "metadata": {},
     "output_type": "display_data"
    },
    {
     "data": {
      "image/png": "[encoded data removed]",
      "text/plain": [
       "<Figure size 1200x500 with 3 Axes>"
      ]
     },
     "metadata": {},
     "output_type": "display_data"
    },
    {
     "data": {
      "text/html": [
       "<pre style=\"white-space:pre;overflow-x:auto;line-height:normal;font-family:Menlo,'DejaVu Sans Mono',consolas,'Courier New',monospace\">✅ Logistic Regression Model Complete!\n",
       "</pre>\n"
      ],
      "text/plain": [
       "✅ Logistic Regression Model Complete!\n"
      ]
     },
     "metadata": {},
     "output_type": "display_data"
    },
    {
     "data": {
      "text/html": [
       "<pre style=\"white-space:pre;overflow-x:auto;line-height:normal;font-family:Menlo,'DejaVu Sans Mono',consolas,'Courier New',monospace\">Best configuration: <span style=\"color: #808000; text-decoration-color: #808000\">C</span>=<span style=\"color: #008080; text-decoration-color: #008080; font-weight: bold\">0.1</span>, <span style=\"color: #808000; text-decoration-color: #808000\">penalty</span>=<span style=\"color: #800080; text-decoration-color: #800080\">l2</span>\n",
       "</pre>\n"
      ],
      "text/plain": [
       "Best configuration: \u001b[33mC\u001b[0m=\u001b[1;36m0\u001b[0m\u001b[1;36m.1\u001b[0m, \u001b[33mpenalty\u001b[0m=\u001b[35ml2\u001b[0m\n"
      ]
     },
     "metadata": {},
     "output_type": "display_data"
    }
   ],
   "source": [
    "# Get the best model\n",
    "best_model = grid_search.best_estimator_\n",
    "\n",
    "# Make predictions on test set\n",
    "y_pred = best_model.predict(X_test)\n",
    "y_pred_proba = best_model.predict_proba(X_test)[:, 1]\n",
    "\n",
    "# Calculate metrics\n",
    "accuracy = accuracy_score(y_test, y_pred)\n",
    "cm = confusion_matrix(y_test, y_pred)\n",
    "\n",
    "# Validate confusion matrix shape\n",
    "if cm.shape != (2, 2):\n",
    "    raise ValueError(f'Expected 2x2 confusion matrix, got {cm.shape}. Check that both classes are present in predictions.')\n",
    "\n",
    "# Calculate specific metrics for withdrawal prediction\n",
    "tn, fp, fn, tp = cm.ravel()\n",
    "withdrawal_recall = tp / (tp + fn)  # Class-1 recall (withdrawals)\n",
    "continuation_recall = tn / (tn + fp)  # Class-0 recall (continuations)\n",
    "precision = tp / (tp + fp) if (tp + fp) > 0 else 0  # Precision for withdrawals\n",
    "\n",
    "print('📊 Model Performance:')\n",
    "print(f'   Accuracy: {accuracy:.3f}')\n",
    "print(f'   Withdrawal recall (class-1): {withdrawal_recall:.3f}')\n",
    "print(f'   Continuation recall (class-0): {continuation_recall:.3f}')\n",
    "print(f'   Precision (withdrawal): {precision:.3f}')\n",
    "\n",
    "# Add explicit note about CV scorer alignment\n",
    "print(f'\\n🔍 CV Scorer Alignment:')\n",
    "print(f'   Grid search optimised: Class-1 recall = {withdrawal_recall:.3f}')\n",
    "print(f'   Best CV score was: {grid_search.best_score_:.3f}')\n",
    "\n",
    "print(f'\\n🎯 Confusion Matrix:')\n",
    "print(f'   True Negatives (correct continuations): {tn}')\n",
    "print(f'   False Positives (incorrectly predicted withdrawals): {fp}')\n",
    "print(f'   False Negatives (missed withdrawals): {fn}')\n",
    "print(f'   True Positives (correct withdrawals): {tp}')\n",
    "\n",
    "# Detailed classification report\n",
    "print(f'\\n📈 Classification Report:')\n",
    "print(classification_report(y_test, y_pred, target_names=['Continuation', 'Withdrawal']))\n",
    "\n",
    "# Create visualisation of results\n",
    "fig, axes = plt.subplots(1, 2, figsize=(12, 5))\n",
    "\n",
    "# Confusion Matrix Heatmap\n",
    "sns.heatmap(cm, annot=True, fmt='d', cmap='Blues', \n",
    "           xticklabels=['Continuation', 'Withdrawal'],\n",
    "           yticklabels=['Continuation', 'Withdrawal'],\n",
    "           ax=axes[0])\n",
    "axes[0].set_title('Confusion Matrix')\n",
    "axes[0].set_ylabel('Actual')\n",
    "axes[0].set_xlabel('Predicted')\n",
    "\n",
    "# Performance Metrics Bar Chart\n",
    "metrics = ['Accuracy', 'Withdrawal Recall', 'Continuation Recall', 'Precision']\n",
    "values = [accuracy, withdrawal_recall, continuation_recall, precision]\n",
    "colors = ['skyblue', 'lightcoral', 'lightgreen', 'gold']\n",
    "\n",
    "bars = axes[1].bar(metrics, values, color=colors)\n",
    "axes[1].set_ylim(0, 1)\n",
    "axes[1].set_title('Performance Metrics')\n",
    "axes[1].set_ylabel('Score')\n",
    "\n",
    "# Add value labels on bars\n",
    "for bar, value in zip(bars, values):\n",
    "    axes[1].text(bar.get_x() + bar.get_width()/2, bar.get_height() + 0.01,\n",
    "                f'{value:.3f}', ha='center', va='bottom')\n",
    "\n",
    "plt.xticks(rotation=45, ha='right')\n",
    "plt.tight_layout()\n",
    "plt.show()\n",
    "\n",
    "print(f'✅ Logistic Regression Model Complete!')\n",
    "print(f'Best configuration: C={grid_search.best_params_[\"classifier__C\"]}, '\n",
    "      f'penalty={grid_search.best_params_[\"classifier__penalty\"]}')"
   ]
  },
  {
   "cell_type": "code",
   "execution_count": 29,
   "id": "06db4a58",
   "metadata": {},
   "outputs": [
    {
     "data": {
      "text/html": [
       "<pre style=\"white-space:pre;overflow-x:auto;line-height:normal;font-family:Menlo,'DejaVu Sans Mono',consolas,'Courier New',monospace\">Getting probability predictions from Logistic Regression model<span style=\"color: #808000; text-decoration-color: #808000\">...</span>\n",
       "</pre>\n"
      ],
      "text/plain": [
       "Getting probability predictions from Logistic Regression model\u001b[33m...\u001b[0m\n"
      ]
     },
     "metadata": {},
     "output_type": "display_data"
    },
    {
     "data": {
      "text/html": [
       "<pre style=\"white-space:pre;overflow-x:auto;line-height:normal;font-family:Menlo,'DejaVu Sans Mono',consolas,'Courier New',monospace\">Creating Professional Threshold vs Performance Chart for Logistic Regression\n",
       "</pre>\n"
      ],
      "text/plain": [
       "Creating Professional Threshold vs Performance Chart for Logistic Regression\n"
      ]
     },
     "metadata": {},
     "output_type": "display_data"
    },
    {
     "data": {
      "image/png": "[encoded data removed]",
      "text/plain": [
       "<Figure size 1200x600 with 1 Axes>"
      ]
     },
     "metadata": {},
     "output_type": "display_data"
    },
    {
     "data": {
      "text/html": [
       "<pre style=\"white-space:pre;overflow-x:auto;line-height:normal;font-family:Menlo,'DejaVu Sans Mono',consolas,'Courier New',monospace\"> - Logistic Regression THRESHOLD PERFORMANCE ANALYSIS\n",
       "</pre>\n"
      ],
      "text/plain": [
       " - Logistic Regression THRESHOLD PERFORMANCE ANALYSIS\n"
      ]
     },
     "metadata": {},
     "output_type": "display_data"
    },
    {
     "data": {
      "text/html": [
       "<pre style=\"white-space:pre;overflow-x:auto;line-height:normal;font-family:Menlo,'DejaVu Sans Mono',consolas,'Courier New',monospace\"> Threshold  Withdrawal_Recall  Withdrawal_Precision  F1_Score    Status\n",
       "       <span style=\"color: #008080; text-decoration-color: #008080; font-weight: bold\">0.0</span>              <span style=\"color: #008080; text-decoration-color: #008080; font-weight: bold\">1.000</span>                 <span style=\"color: #008080; text-decoration-color: #008080; font-weight: bold\">0.321</span>     <span style=\"color: #008080; text-decoration-color: #008080; font-weight: bold\">0.486</span>          \n",
       "       <span style=\"color: #008080; text-decoration-color: #008080; font-weight: bold\">0.1</span>              <span style=\"color: #008080; text-decoration-color: #008080; font-weight: bold\">0.986</span>                 <span style=\"color: #008080; text-decoration-color: #008080; font-weight: bold\">0.345</span>     <span style=\"color: #008080; text-decoration-color: #008080; font-weight: bold\">0.511</span>          \n",
       "       <span style=\"color: #008080; text-decoration-color: #008080; font-weight: bold\">0.2</span>              <span style=\"color: #008080; text-decoration-color: #008080; font-weight: bold\">0.965</span>                 <span style=\"color: #008080; text-decoration-color: #008080; font-weight: bold\">0.432</span>     <span style=\"color: #008080; text-decoration-color: #008080; font-weight: bold\">0.597</span>          \n",
       "       <span style=\"color: #008080; text-decoration-color: #008080; font-weight: bold\">0.3</span>              <span style=\"color: #008080; text-decoration-color: #008080; font-weight: bold\">0.901</span>                 <span style=\"color: #008080; text-decoration-color: #008080; font-weight: bold\">0.518</span>     <span style=\"color: #008080; text-decoration-color: #008080; font-weight: bold\">0.658</span>          \n",
       "       <span style=\"color: #008080; text-decoration-color: #008080; font-weight: bold\">0.4</span>              <span style=\"color: #008080; text-decoration-color: #008080; font-weight: bold\">0.810</span>                 <span style=\"color: #008080; text-decoration-color: #008080; font-weight: bold\">0.605</span>     <span style=\"color: #008080; text-decoration-color: #008080; font-weight: bold\">0.693</span>          \n",
       "       <span style=\"color: #008080; text-decoration-color: #008080; font-weight: bold\">0.5</span>              <span style=\"color: #008080; text-decoration-color: #008080; font-weight: bold\">0.743</span>                 <span style=\"color: #008080; text-decoration-color: #008080; font-weight: bold\">0.690</span>     <span style=\"color: #008080; text-decoration-color: #008080; font-weight: bold\">0.715</span> ← CURRENT\n",
       "       <span style=\"color: #008080; text-decoration-color: #008080; font-weight: bold\">0.6</span>              <span style=\"color: #008080; text-decoration-color: #008080; font-weight: bold\">0.665</span>                 <span style=\"color: #008080; text-decoration-color: #008080; font-weight: bold\">0.781</span>     <span style=\"color: #008080; text-decoration-color: #008080; font-weight: bold\">0.719</span>          \n",
       "       <span style=\"color: #008080; text-decoration-color: #008080; font-weight: bold\">0.7</span>              <span style=\"color: #008080; text-decoration-color: #008080; font-weight: bold\">0.609</span>                 <span style=\"color: #008080; text-decoration-color: #008080; font-weight: bold\">0.861</span>     <span style=\"color: #008080; text-decoration-color: #008080; font-weight: bold\">0.713</span>          \n",
       "       <span style=\"color: #008080; text-decoration-color: #008080; font-weight: bold\">0.8</span>              <span style=\"color: #008080; text-decoration-color: #008080; font-weight: bold\">0.489</span>                 <span style=\"color: #008080; text-decoration-color: #008080; font-weight: bold\">0.897</span>     <span style=\"color: #008080; text-decoration-color: #008080; font-weight: bold\">0.633</span>          \n",
       "       <span style=\"color: #008080; text-decoration-color: #008080; font-weight: bold\">0.9</span>              <span style=\"color: #008080; text-decoration-color: #008080; font-weight: bold\">0.380</span>                 <span style=\"color: #008080; text-decoration-color: #008080; font-weight: bold\">0.931</span>     <span style=\"color: #008080; text-decoration-color: #008080; font-weight: bold\">0.540</span>          \n",
       "</pre>\n"
      ],
      "text/plain": [
       " Threshold  Withdrawal_Recall  Withdrawal_Precision  F1_Score    Status\n",
       "       \u001b[1;36m0.0\u001b[0m              \u001b[1;36m1.000\u001b[0m                 \u001b[1;36m0.321\u001b[0m     \u001b[1;36m0.486\u001b[0m          \n",
       "       \u001b[1;36m0.1\u001b[0m              \u001b[1;36m0.986\u001b[0m                 \u001b[1;36m0.345\u001b[0m     \u001b[1;36m0.511\u001b[0m          \n",
       "       \u001b[1;36m0.2\u001b[0m              \u001b[1;36m0.965\u001b[0m                 \u001b[1;36m0.432\u001b[0m     \u001b[1;36m0.597\u001b[0m          \n",
       "       \u001b[1;36m0.3\u001b[0m              \u001b[1;36m0.901\u001b[0m                 \u001b[1;36m0.518\u001b[0m     \u001b[1;36m0.658\u001b[0m          \n",
       "       \u001b[1;36m0.4\u001b[0m              \u001b[1;36m0.810\u001b[0m                 \u001b[1;36m0.605\u001b[0m     \u001b[1;36m0.693\u001b[0m          \n",
       "       \u001b[1;36m0.5\u001b[0m              \u001b[1;36m0.743\u001b[0m                 \u001b[1;36m0.690\u001b[0m     \u001b[1;36m0.715\u001b[0m ← CURRENT\n",
       "       \u001b[1;36m0.6\u001b[0m              \u001b[1;36m0.665\u001b[0m                 \u001b[1;36m0.781\u001b[0m     \u001b[1;36m0.719\u001b[0m          \n",
       "       \u001b[1;36m0.7\u001b[0m              \u001b[1;36m0.609\u001b[0m                 \u001b[1;36m0.861\u001b[0m     \u001b[1;36m0.713\u001b[0m          \n",
       "       \u001b[1;36m0.8\u001b[0m              \u001b[1;36m0.489\u001b[0m                 \u001b[1;36m0.897\u001b[0m     \u001b[1;36m0.633\u001b[0m          \n",
       "       \u001b[1;36m0.9\u001b[0m              \u001b[1;36m0.380\u001b[0m                 \u001b[1;36m0.931\u001b[0m     \u001b[1;36m0.540\u001b[0m          \n"
      ]
     },
     "metadata": {},
     "output_type": "display_data"
    },
    {
     "data": {
      "text/html": [
       "<pre style=\"white-space:pre;overflow-x:auto;line-height:normal;font-family:Menlo,'DejaVu Sans Mono',consolas,'Courier New',monospace\"> - THRESHOLD RECOMMENDATIONS\n",
       "</pre>\n"
      ],
      "text/plain": [
       " - THRESHOLD RECOMMENDATIONS\n"
      ]
     },
     "metadata": {},
     "output_type": "display_data"
    },
    {
     "data": {
      "text/html": [
       "<pre style=\"white-space:pre;overflow-x:auto;line-height:normal;font-family:Menlo,'DejaVu Sans Mono',consolas,'Courier New',monospace\">   - Balanced Performance <span style=\"font-weight: bold\">(</span>Best F1<span style=\"font-weight: bold\">)</span>      threshold = <span style=\"color: #008080; text-decoration-color: #008080; font-weight: bold\">0.6</span> <span style=\"font-weight: bold\">(</span><span style=\"color: #808000; text-decoration-color: #808000\">F1</span>=<span style=\"color: #008080; text-decoration-color: #008080; font-weight: bold\">0.719</span><span style=\"font-weight: bold\">)</span>\n",
       "</pre>\n"
      ],
      "text/plain": [
       "   - Balanced Performance \u001b[1m(\u001b[0mBest F1\u001b[1m)\u001b[0m      threshold = \u001b[1;36m0.6\u001b[0m \u001b[1m(\u001b[0m\u001b[33mF1\u001b[0m=\u001b[1;36m0\u001b[0m\u001b[1;36m.719\u001b[0m\u001b[1m)\u001b[0m\n"
      ]
     },
     "metadata": {},
     "output_type": "display_data"
    },
    {
     "data": {
      "text/html": [
       "<pre style=\"white-space:pre;overflow-x:auto;line-height:normal;font-family:Menlo,'DejaVu Sans Mono',consolas,'Courier New',monospace\">   - Maximum Detection <span style=\"font-weight: bold\">(</span>Best Recall<span style=\"font-weight: bold\">)</span>     threshold = <span style=\"color: #008080; text-decoration-color: #008080; font-weight: bold\">0.0</span> <span style=\"font-weight: bold\">(</span><span style=\"color: #808000; text-decoration-color: #808000\">Recall</span>=<span style=\"color: #008080; text-decoration-color: #008080; font-weight: bold\">1.000</span><span style=\"font-weight: bold\">)</span>\n",
       "</pre>\n"
      ],
      "text/plain": [
       "   - Maximum Detection \u001b[1m(\u001b[0mBest Recall\u001b[1m)\u001b[0m     threshold = \u001b[1;36m0.0\u001b[0m \u001b[1m(\u001b[0m\u001b[33mRecall\u001b[0m=\u001b[1;36m1\u001b[0m\u001b[1;36m.000\u001b[0m\u001b[1m)\u001b[0m\n"
      ]
     },
     "metadata": {},
     "output_type": "display_data"
    },
    {
     "data": {
      "text/html": [
       "<pre style=\"white-space:pre;overflow-x:auto;line-height:normal;font-family:Menlo,'DejaVu Sans Mono',consolas,'Courier New',monospace\">   - Minimum <span style=\"color: #ff0000; text-decoration-color: #ff0000; font-style: italic\">False</span> Alarms <span style=\"font-weight: bold\">(</span>Best Precision<span style=\"font-weight: bold\">)</span> threshold = <span style=\"color: #008080; text-decoration-color: #008080; font-weight: bold\">0.9</span> <span style=\"font-weight: bold\">(</span><span style=\"color: #808000; text-decoration-color: #808000\">Precision</span>=<span style=\"color: #008080; text-decoration-color: #008080; font-weight: bold\">0.931</span><span style=\"font-weight: bold\">)</span>\n",
       "</pre>\n"
      ],
      "text/plain": [
       "   - Minimum \u001b[3;91mFalse\u001b[0m Alarms \u001b[1m(\u001b[0mBest Precision\u001b[1m)\u001b[0m threshold = \u001b[1;36m0.9\u001b[0m \u001b[1m(\u001b[0m\u001b[33mPrecision\u001b[0m=\u001b[1;36m0\u001b[0m\u001b[1;36m.931\u001b[0m\u001b[1m)\u001b[0m\n"
      ]
     },
     "metadata": {},
     "output_type": "display_data"
    }
   ],
   "source": [
    "# Set professional seaborn style\n",
    "sns.set_style('whitegrid')\n",
    "sns.set_palette('Set2')\n",
    "plt.rcParams['figure.facecolor'] = 'white'\n",
    "plt.rcParams['axes.facecolor'] = 'white'\n",
    "\n",
    "# Get probability predictions for threshold analysis\n",
    "print('Getting probability predictions from Logistic Regression model...')\n",
    "# Note: Make sure y_pred_proba is from your logistic regression model\n",
    "# y_pred_proba = best_lr_model.predict_proba(X_test)[:, 1]  # Probability of withdrawal (class 1)\n",
    "\n",
    "# Threshold vs Performance Chart\n",
    "print('Creating Professional Threshold vs Performance Chart for Logistic Regression')\n",
    "\n",
    "# Define threshold range (0.0 to 1.0 in 0.1 increments)\n",
    "thresholds = np.arange(0.0, 1.0, 0.1)\n",
    "\n",
    "# Store results\n",
    "withdrawal_precisions = []\n",
    "withdrawal_recalls = []\n",
    "\n",
    "# Calculate precision and recall for each threshold\n",
    "for threshold in thresholds:\n",
    "    # Make predictions using this threshold\n",
    "    y_pred_thresh = (y_pred_proba >= threshold).astype(int)\n",
    "    \n",
    "    # Calculate confusion matrix\n",
    "    cm_thresh = confusion_matrix(y_test, y_pred_thresh)\n",
    "    \n",
    "    # Handle edge cases where no predictions are made for a class\n",
    "    if cm_thresh.shape != (2, 2):\n",
    "        # If threshold is too high/low, some classes might not be predicted\n",
    "        if threshold >= 1.0:\n",
    "            # No withdrawals predicted\n",
    "            withdrawal_recalls.append(0.0)\n",
    "            withdrawal_precisions.append(0.0)\n",
    "        else:\n",
    "            # All predicted as withdrawals\n",
    "            withdrawal_recalls.append(1.0)\n",
    "            withdrawal_precisions.append(sum(y_test) / len(y_test))\n",
    "    else:\n",
    "        tn, fp, fn, tp = cm_thresh.ravel()\n",
    "        \n",
    "        # Withdrawal recall (sensitivity for class 1)\n",
    "        recall = tp / (tp + fn) if (tp + fn) > 0 else 0.0\n",
    "        \n",
    "        # Withdrawal precision (positive predictive value for class 1)  \n",
    "        precision = tp / (tp + fp) if (tp + fp) > 0 else 0.0\n",
    "        \n",
    "        withdrawal_recalls.append(recall)\n",
    "        withdrawal_precisions.append(precision)\n",
    "\n",
    "# Create professional plot with seaborn styling\n",
    "fig, ax = plt.subplots(figsize=(12, 6))\n",
    "\n",
    "# Define professional color palette\n",
    "colors = sns.color_palette('husl', 3)\n",
    "recall_color = colors[0]  # Blue-ish\n",
    "precision_color = colors[1]  # Orange-ish\n",
    "current_color = colors[2]  # Green-ish\n",
    "\n",
    "# Plot both lines with enhanced styling\n",
    "ax.plot(thresholds, withdrawal_recalls, \n",
    "        color=recall_color, linewidth=4, marker='o', markersize=8, \n",
    "        markerfacecolor='white', markeredgecolor=recall_color, markeredgewidth=2,\n",
    "        label='Withdrawal Recall (Detection Rate)', alpha=0.9)\n",
    "\n",
    "ax.plot(thresholds, withdrawal_precisions, \n",
    "        color=precision_color, linewidth=4, marker='s', markersize=8,\n",
    "        markerfacecolor='white', markeredgecolor=precision_color, markeredgewidth=2,\n",
    "        label='Withdrawal Precision (Accuracy)', alpha=0.9)\n",
    "\n",
    "# Mark current model (0.5 threshold) with enhanced styling\n",
    "current_idx = 5  # 0.5 is at index 5 in our array\n",
    "ax.scatter(0.5, withdrawal_recalls[current_idx], s=200, \n",
    "          color=current_color, edgecolor='white', linewidth=3, zorder=5,\n",
    "          label=f'Current Logistic Regression Model (threshold=0.5)')\n",
    "\n",
    "# Add annotation for current model\n",
    "ax.annotate(f'Current Model\\nRecall: {withdrawal_recalls[current_idx]:.3f}\\nPrecision: {withdrawal_precisions[current_idx]:.3f}',\n",
    "            xy=(0.5, withdrawal_recalls[current_idx]), \n",
    "            xytext=(0.5, 0.5), fontsize=11,\n",
    "            bbox=dict(boxstyle='round,pad=0.3', facecolor=current_color, alpha=0.3),\n",
    "            arrowprops=dict(arrowstyle='->', color=current_color, lw=2))\n",
    "\n",
    "# Enhanced formatting\n",
    "ax.set_xlabel('Prediction Threshold', fontsize=16, fontweight='bold')\n",
    "ax.set_ylabel('Performance Score', fontsize=16, fontweight='bold')\n",
    "ax.set_title('Logistic Regression Model: Withdrawal Detection Performance by Threshold', \n",
    "             fontsize=18, fontweight='bold', pad=20)\n",
    "\n",
    "# Customise grid\n",
    "ax.grid(True, alpha=0.3, linestyle='--')\n",
    "ax.set_axisbelow(True)\n",
    "\n",
    "# Enhanced legend - moved to bottom left\n",
    "legend = ax.legend(fontsize=13, frameon=True, shadow=True, \n",
    "                   fancybox=True, framealpha=0.9, loc='lower left')\n",
    "legend.get_frame().set_facecolor('white')\n",
    "\n",
    "# Set limits and ticks\n",
    "ax.set_xlim(-0.05, 1.05)\n",
    "ax.set_ylim(-0.05, 1.05)\n",
    "ax.set_xticks(thresholds)\n",
    "ax.set_xticklabels([f'{t:.1f}' for t in thresholds], fontsize=12)\n",
    "ax.tick_params(axis='y', labelsize=12)\n",
    "\n",
    "# Add professional text box with guidance - moved to top right to avoid legend\n",
    "textstr = '''- Lower threshold → Higher recall (catch more withdrawals)\n",
    "- Higher threshold → Higher precision (fewer false alarms)'''\n",
    "\n",
    "ax.text(0.98, 0.98, textstr, transform=ax.transAxes, fontsize=12,\n",
    "        verticalalignment='top', horizontalalignment='right',\n",
    "        bbox=dict(boxstyle='round,pad=0.5', facecolor='lightblue', alpha=0.8,\n",
    "                 edgecolor='steelblue', linewidth=1))\n",
    "\n",
    "# Remove top and right spines for cleaner look\n",
    "sns.despine(ax=ax)\n",
    "\n",
    "plt.tight_layout()\n",
    "plt.show()\n",
    "\n",
    "# Create professional results table\n",
    "results_df = pd.DataFrame({\n",
    "    'Threshold': thresholds,\n",
    "    'Withdrawal_Recall': withdrawal_recalls,\n",
    "    'Withdrawal_Precision': withdrawal_precisions\n",
    "})\n",
    "\n",
    "# Calculate F1 scores\n",
    "f1_scores = []\n",
    "for i, threshold in enumerate(thresholds):\n",
    "    if withdrawal_precisions[i] + withdrawal_recalls[i] > 0:\n",
    "        f1 = 2 * (withdrawal_precisions[i] * withdrawal_recalls[i]) / (withdrawal_precisions[i] + withdrawal_recalls[i])\n",
    "    else:\n",
    "        f1 = 0.0\n",
    "    f1_scores.append(f1)\n",
    "\n",
    "results_df['F1_Score'] = f1_scores\n",
    "results_df = results_df.round(3)\n",
    "\n",
    "# Add status column\n",
    "results_df['Status'] = results_df['Threshold'].apply(lambda x: '← CURRENT' if x == 0.5 else '')\n",
    "\n",
    "# Style the dataframe display\n",
    "print(' - Logistic Regression THRESHOLD PERFORMANCE ANALYSIS')\n",
    "print(results_df.to_string(index=False))\n",
    "\n",
    "# Professional recommendations section\n",
    "print(' - THRESHOLD RECOMMENDATIONS')\n",
    "\n",
    "best_f1_idx = np.argmax(f1_scores)\n",
    "best_recall_idx = np.argmax(withdrawal_recalls)\n",
    "best_precision_idx = np.argmax(withdrawal_precisions)\n",
    "\n",
    "recommendations = [\n",
    "    ('   - Balanced Performance (Best F1)', thresholds[best_f1_idx], f'F1={f1_scores[best_f1_idx]:.3f}'),\n",
    "    ('   - Maximum Detection (Best Recall)', thresholds[best_recall_idx], f'Recall={withdrawal_recalls[best_recall_idx]:.3f}'),\n",
    "    ('   - Minimum False Alarms (Best Precision)', thresholds[best_precision_idx], f'Precision={withdrawal_precisions[best_precision_idx]:.3f}')\n",
    "]\n",
    "\n",
    "for desc, threshold, metric in recommendations:\n",
    "    print(f'{desc:<40} threshold = {threshold:.1f} ({metric})')\n",
    "\n",
    "# Reset matplotlib style to default for subsequent plots\n",
    "plt.style.use('default')"
   ]
  }
 ],
 "metadata": {
  "kernelspec": {
   "display_name": "venv",
   "language": "python",
   "name": "python3"
  },
  "language_info": {
   "codemirror_mode": {
    "name": "ipython",
    "version": 3
   },
   "file_extension": ".py",
   "mimetype": "text/x-python",
   "name": "python",
   "nbconvert_exporter": "python",
   "pygments_lexer": "ipython3",
   "version": "3.11.5"
  }
 },
 "nbformat": 4,
 "nbformat_minor": 5
}
